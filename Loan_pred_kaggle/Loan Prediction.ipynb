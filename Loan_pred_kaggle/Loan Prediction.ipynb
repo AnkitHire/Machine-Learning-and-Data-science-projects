{
 "cells": [
  {
   "cell_type": "code",
   "execution_count": 246,
   "metadata": {},
   "outputs": [],
   "source": [
    "import pandas as pd\n",
    "import numpy as np\n",
    "import matplotlib.pyplot as plt\n",
    "import seaborn as sns\n",
    "\n",
    "import warnings\n",
    "warnings.filterwarnings('ignore')"
   ]
  },
  {
   "cell_type": "code",
   "execution_count": 247,
   "metadata": {},
   "outputs": [],
   "source": [
    "#create a dataframe and read the csv\n",
    "df = pd.read_csv('C:/Users/Ankit Hiremath/Downloads/archive (1)/train_u6lujuX_CVtuZ9i.csv')"
   ]
  },
  {
   "cell_type": "code",
   "execution_count": 248,
   "metadata": {},
   "outputs": [
    {
     "data": {
      "text/plain": [
       "(614, 13)"
      ]
     },
     "execution_count": 248,
     "metadata": {},
     "output_type": "execute_result"
    }
   ],
   "source": [
    "#look at the data\n",
    "df.shape"
   ]
  },
  {
   "cell_type": "code",
   "execution_count": 249,
   "metadata": {},
   "outputs": [
    {
     "data": {
      "text/html": [
       "<div>\n",
       "<style scoped>\n",
       "    .dataframe tbody tr th:only-of-type {\n",
       "        vertical-align: middle;\n",
       "    }\n",
       "\n",
       "    .dataframe tbody tr th {\n",
       "        vertical-align: top;\n",
       "    }\n",
       "\n",
       "    .dataframe thead th {\n",
       "        text-align: right;\n",
       "    }\n",
       "</style>\n",
       "<table border=\"1\" class=\"dataframe\">\n",
       "  <thead>\n",
       "    <tr style=\"text-align: right;\">\n",
       "      <th></th>\n",
       "      <th>Loan_ID</th>\n",
       "      <th>Gender</th>\n",
       "      <th>Married</th>\n",
       "      <th>Dependents</th>\n",
       "      <th>Education</th>\n",
       "      <th>Self_Employed</th>\n",
       "      <th>ApplicantIncome</th>\n",
       "      <th>CoapplicantIncome</th>\n",
       "      <th>LoanAmount</th>\n",
       "      <th>Loan_Amount_Term</th>\n",
       "      <th>Credit_History</th>\n",
       "      <th>Property_Area</th>\n",
       "      <th>Loan_Status</th>\n",
       "    </tr>\n",
       "  </thead>\n",
       "  <tbody>\n",
       "    <tr>\n",
       "      <th>0</th>\n",
       "      <td>LP001002</td>\n",
       "      <td>Male</td>\n",
       "      <td>No</td>\n",
       "      <td>0</td>\n",
       "      <td>Graduate</td>\n",
       "      <td>No</td>\n",
       "      <td>5849</td>\n",
       "      <td>0.0</td>\n",
       "      <td>NaN</td>\n",
       "      <td>360.0</td>\n",
       "      <td>1.0</td>\n",
       "      <td>Urban</td>\n",
       "      <td>Y</td>\n",
       "    </tr>\n",
       "    <tr>\n",
       "      <th>1</th>\n",
       "      <td>LP001003</td>\n",
       "      <td>Male</td>\n",
       "      <td>Yes</td>\n",
       "      <td>1</td>\n",
       "      <td>Graduate</td>\n",
       "      <td>No</td>\n",
       "      <td>4583</td>\n",
       "      <td>1508.0</td>\n",
       "      <td>128.0</td>\n",
       "      <td>360.0</td>\n",
       "      <td>1.0</td>\n",
       "      <td>Rural</td>\n",
       "      <td>N</td>\n",
       "    </tr>\n",
       "    <tr>\n",
       "      <th>2</th>\n",
       "      <td>LP001005</td>\n",
       "      <td>Male</td>\n",
       "      <td>Yes</td>\n",
       "      <td>0</td>\n",
       "      <td>Graduate</td>\n",
       "      <td>Yes</td>\n",
       "      <td>3000</td>\n",
       "      <td>0.0</td>\n",
       "      <td>66.0</td>\n",
       "      <td>360.0</td>\n",
       "      <td>1.0</td>\n",
       "      <td>Urban</td>\n",
       "      <td>Y</td>\n",
       "    </tr>\n",
       "    <tr>\n",
       "      <th>3</th>\n",
       "      <td>LP001006</td>\n",
       "      <td>Male</td>\n",
       "      <td>Yes</td>\n",
       "      <td>0</td>\n",
       "      <td>Not Graduate</td>\n",
       "      <td>No</td>\n",
       "      <td>2583</td>\n",
       "      <td>2358.0</td>\n",
       "      <td>120.0</td>\n",
       "      <td>360.0</td>\n",
       "      <td>1.0</td>\n",
       "      <td>Urban</td>\n",
       "      <td>Y</td>\n",
       "    </tr>\n",
       "    <tr>\n",
       "      <th>4</th>\n",
       "      <td>LP001008</td>\n",
       "      <td>Male</td>\n",
       "      <td>No</td>\n",
       "      <td>0</td>\n",
       "      <td>Graduate</td>\n",
       "      <td>No</td>\n",
       "      <td>6000</td>\n",
       "      <td>0.0</td>\n",
       "      <td>141.0</td>\n",
       "      <td>360.0</td>\n",
       "      <td>1.0</td>\n",
       "      <td>Urban</td>\n",
       "      <td>Y</td>\n",
       "    </tr>\n",
       "  </tbody>\n",
       "</table>\n",
       "</div>"
      ],
      "text/plain": [
       "    Loan_ID Gender Married Dependents     Education Self_Employed  \\\n",
       "0  LP001002   Male      No          0      Graduate            No   \n",
       "1  LP001003   Male     Yes          1      Graduate            No   \n",
       "2  LP001005   Male     Yes          0      Graduate           Yes   \n",
       "3  LP001006   Male     Yes          0  Not Graduate            No   \n",
       "4  LP001008   Male      No          0      Graduate            No   \n",
       "\n",
       "   ApplicantIncome  CoapplicantIncome  LoanAmount  Loan_Amount_Term  \\\n",
       "0             5849                0.0         NaN             360.0   \n",
       "1             4583             1508.0       128.0             360.0   \n",
       "2             3000                0.0        66.0             360.0   \n",
       "3             2583             2358.0       120.0             360.0   \n",
       "4             6000                0.0       141.0             360.0   \n",
       "\n",
       "   Credit_History Property_Area Loan_Status  \n",
       "0             1.0         Urban           Y  \n",
       "1             1.0         Rural           N  \n",
       "2             1.0         Urban           Y  \n",
       "3             1.0         Urban           Y  \n",
       "4             1.0         Urban           Y  "
      ]
     },
     "execution_count": 249,
     "metadata": {},
     "output_type": "execute_result"
    }
   ],
   "source": [
    "df.head()\n",
    "#there is categorical data"
   ]
  },
  {
   "cell_type": "code",
   "execution_count": 250,
   "metadata": {},
   "outputs": [
    {
     "name": "stdout",
     "output_type": "stream",
     "text": [
      "<class 'pandas.core.frame.DataFrame'>\n",
      "RangeIndex: 614 entries, 0 to 613\n",
      "Data columns (total 13 columns):\n",
      " #   Column             Non-Null Count  Dtype  \n",
      "---  ------             --------------  -----  \n",
      " 0   Loan_ID            614 non-null    object \n",
      " 1   Gender             601 non-null    object \n",
      " 2   Married            611 non-null    object \n",
      " 3   Dependents         599 non-null    object \n",
      " 4   Education          614 non-null    object \n",
      " 5   Self_Employed      582 non-null    object \n",
      " 6   ApplicantIncome    614 non-null    int64  \n",
      " 7   CoapplicantIncome  614 non-null    float64\n",
      " 8   LoanAmount         592 non-null    float64\n",
      " 9   Loan_Amount_Term   600 non-null    float64\n",
      " 10  Credit_History     564 non-null    float64\n",
      " 11  Property_Area      614 non-null    object \n",
      " 12  Loan_Status        614 non-null    object \n",
      "dtypes: float64(4), int64(1), object(8)\n",
      "memory usage: 43.2+ KB\n"
     ]
    }
   ],
   "source": [
    "#check for missing data\n",
    "df.info()"
   ]
  },
  {
   "cell_type": "code",
   "execution_count": 251,
   "metadata": {},
   "outputs": [
    {
     "data": {
      "text/html": [
       "<div>\n",
       "<style scoped>\n",
       "    .dataframe tbody tr th:only-of-type {\n",
       "        vertical-align: middle;\n",
       "    }\n",
       "\n",
       "    .dataframe tbody tr th {\n",
       "        vertical-align: top;\n",
       "    }\n",
       "\n",
       "    .dataframe thead th {\n",
       "        text-align: right;\n",
       "    }\n",
       "</style>\n",
       "<table border=\"1\" class=\"dataframe\">\n",
       "  <thead>\n",
       "    <tr style=\"text-align: right;\">\n",
       "      <th></th>\n",
       "      <th>ApplicantIncome</th>\n",
       "      <th>CoapplicantIncome</th>\n",
       "      <th>LoanAmount</th>\n",
       "      <th>Loan_Amount_Term</th>\n",
       "      <th>Credit_History</th>\n",
       "    </tr>\n",
       "  </thead>\n",
       "  <tbody>\n",
       "    <tr>\n",
       "      <th>count</th>\n",
       "      <td>614.000000</td>\n",
       "      <td>614.000000</td>\n",
       "      <td>592.000000</td>\n",
       "      <td>600.00000</td>\n",
       "      <td>564.000000</td>\n",
       "    </tr>\n",
       "    <tr>\n",
       "      <th>mean</th>\n",
       "      <td>5403.459283</td>\n",
       "      <td>1621.245798</td>\n",
       "      <td>146.412162</td>\n",
       "      <td>342.00000</td>\n",
       "      <td>0.842199</td>\n",
       "    </tr>\n",
       "    <tr>\n",
       "      <th>std</th>\n",
       "      <td>6109.041673</td>\n",
       "      <td>2926.248369</td>\n",
       "      <td>85.587325</td>\n",
       "      <td>65.12041</td>\n",
       "      <td>0.364878</td>\n",
       "    </tr>\n",
       "    <tr>\n",
       "      <th>min</th>\n",
       "      <td>150.000000</td>\n",
       "      <td>0.000000</td>\n",
       "      <td>9.000000</td>\n",
       "      <td>12.00000</td>\n",
       "      <td>0.000000</td>\n",
       "    </tr>\n",
       "    <tr>\n",
       "      <th>25%</th>\n",
       "      <td>2877.500000</td>\n",
       "      <td>0.000000</td>\n",
       "      <td>100.000000</td>\n",
       "      <td>360.00000</td>\n",
       "      <td>1.000000</td>\n",
       "    </tr>\n",
       "    <tr>\n",
       "      <th>50%</th>\n",
       "      <td>3812.500000</td>\n",
       "      <td>1188.500000</td>\n",
       "      <td>128.000000</td>\n",
       "      <td>360.00000</td>\n",
       "      <td>1.000000</td>\n",
       "    </tr>\n",
       "    <tr>\n",
       "      <th>75%</th>\n",
       "      <td>5795.000000</td>\n",
       "      <td>2297.250000</td>\n",
       "      <td>168.000000</td>\n",
       "      <td>360.00000</td>\n",
       "      <td>1.000000</td>\n",
       "    </tr>\n",
       "    <tr>\n",
       "      <th>max</th>\n",
       "      <td>81000.000000</td>\n",
       "      <td>41667.000000</td>\n",
       "      <td>700.000000</td>\n",
       "      <td>480.00000</td>\n",
       "      <td>1.000000</td>\n",
       "    </tr>\n",
       "  </tbody>\n",
       "</table>\n",
       "</div>"
      ],
      "text/plain": [
       "       ApplicantIncome  CoapplicantIncome  LoanAmount  Loan_Amount_Term  \\\n",
       "count       614.000000         614.000000  592.000000         600.00000   \n",
       "mean       5403.459283        1621.245798  146.412162         342.00000   \n",
       "std        6109.041673        2926.248369   85.587325          65.12041   \n",
       "min         150.000000           0.000000    9.000000          12.00000   \n",
       "25%        2877.500000           0.000000  100.000000         360.00000   \n",
       "50%        3812.500000        1188.500000  128.000000         360.00000   \n",
       "75%        5795.000000        2297.250000  168.000000         360.00000   \n",
       "max       81000.000000       41667.000000  700.000000         480.00000   \n",
       "\n",
       "       Credit_History  \n",
       "count      564.000000  \n",
       "mean         0.842199  \n",
       "std          0.364878  \n",
       "min          0.000000  \n",
       "25%          1.000000  \n",
       "50%          1.000000  \n",
       "75%          1.000000  \n",
       "max          1.000000  "
      ]
     },
     "execution_count": 251,
     "metadata": {},
     "output_type": "execute_result"
    }
   ],
   "source": [
    "df.describe()"
   ]
  },
  {
   "cell_type": "code",
   "execution_count": 252,
   "metadata": {},
   "outputs": [],
   "source": [
    "#we have to change credit_history to object as its values are either 0 or 1\n",
    "df['Credit_History'] = df['Credit_History'].astype('O')"
   ]
  },
  {
   "cell_type": "code",
   "execution_count": 253,
   "metadata": {},
   "outputs": [
    {
     "data": {
      "text/html": [
       "<div>\n",
       "<style scoped>\n",
       "    .dataframe tbody tr th:only-of-type {\n",
       "        vertical-align: middle;\n",
       "    }\n",
       "\n",
       "    .dataframe tbody tr th {\n",
       "        vertical-align: top;\n",
       "    }\n",
       "\n",
       "    .dataframe thead th {\n",
       "        text-align: right;\n",
       "    }\n",
       "</style>\n",
       "<table border=\"1\" class=\"dataframe\">\n",
       "  <thead>\n",
       "    <tr style=\"text-align: right;\">\n",
       "      <th></th>\n",
       "      <th>Loan_ID</th>\n",
       "      <th>Gender</th>\n",
       "      <th>Married</th>\n",
       "      <th>Dependents</th>\n",
       "      <th>Education</th>\n",
       "      <th>Self_Employed</th>\n",
       "      <th>Credit_History</th>\n",
       "      <th>Property_Area</th>\n",
       "      <th>Loan_Status</th>\n",
       "    </tr>\n",
       "  </thead>\n",
       "  <tbody>\n",
       "    <tr>\n",
       "      <th>count</th>\n",
       "      <td>614</td>\n",
       "      <td>601</td>\n",
       "      <td>611</td>\n",
       "      <td>599</td>\n",
       "      <td>614</td>\n",
       "      <td>582</td>\n",
       "      <td>564.0</td>\n",
       "      <td>614</td>\n",
       "      <td>614</td>\n",
       "    </tr>\n",
       "    <tr>\n",
       "      <th>unique</th>\n",
       "      <td>614</td>\n",
       "      <td>2</td>\n",
       "      <td>2</td>\n",
       "      <td>4</td>\n",
       "      <td>2</td>\n",
       "      <td>2</td>\n",
       "      <td>2.0</td>\n",
       "      <td>3</td>\n",
       "      <td>2</td>\n",
       "    </tr>\n",
       "    <tr>\n",
       "      <th>top</th>\n",
       "      <td>LP002219</td>\n",
       "      <td>Male</td>\n",
       "      <td>Yes</td>\n",
       "      <td>0</td>\n",
       "      <td>Graduate</td>\n",
       "      <td>No</td>\n",
       "      <td>1.0</td>\n",
       "      <td>Semiurban</td>\n",
       "      <td>Y</td>\n",
       "    </tr>\n",
       "    <tr>\n",
       "      <th>freq</th>\n",
       "      <td>1</td>\n",
       "      <td>489</td>\n",
       "      <td>398</td>\n",
       "      <td>345</td>\n",
       "      <td>480</td>\n",
       "      <td>500</td>\n",
       "      <td>475.0</td>\n",
       "      <td>233</td>\n",
       "      <td>422</td>\n",
       "    </tr>\n",
       "  </tbody>\n",
       "</table>\n",
       "</div>"
      ],
      "text/plain": [
       "         Loan_ID Gender Married Dependents Education Self_Employed  \\\n",
       "count        614    601     611        599       614           582   \n",
       "unique       614      2       2          4         2             2   \n",
       "top     LP002219   Male     Yes          0  Graduate            No   \n",
       "freq           1    489     398        345       480           500   \n",
       "\n",
       "        Credit_History Property_Area Loan_Status  \n",
       "count            564.0           614         614  \n",
       "unique             2.0             3           2  \n",
       "top                1.0     Semiurban           Y  \n",
       "freq             475.0           233         422  "
      ]
     },
     "execution_count": 253,
     "metadata": {},
     "output_type": "execute_result"
    }
   ],
   "source": [
    "df.describe(include='O')\n",
    "#describe with objects"
   ]
  },
  {
   "cell_type": "code",
   "execution_count": 254,
   "metadata": {},
   "outputs": [],
   "source": [
    "#we will drop Loan_id as it is not imp\n",
    "df.drop('Loan_ID' , axis=1 , inplace=True)"
   ]
  },
  {
   "cell_type": "code",
   "execution_count": 255,
   "metadata": {},
   "outputs": [
    {
     "data": {
      "text/plain": [
       "False"
      ]
     },
     "execution_count": 255,
     "metadata": {},
     "output_type": "execute_result"
    }
   ],
   "source": [
    "#check for duplicates\n",
    "df.duplicated().any()"
   ]
  },
  {
   "cell_type": "code",
   "execution_count": 256,
   "metadata": {},
   "outputs": [
    {
     "name": "stdout",
     "output_type": "stream",
     "text": [
      "x= 0.312704 \n",
      "y= 0.687296\n"
     ]
    },
    {
     "data": {
      "image/png": "[encoded data removed]",
      "text/plain": [
       "<Figure size 432x288 with 1 Axes>"
      ]
     },
     "metadata": {
      "needs_background": "light"
     },
     "output_type": "display_data"
    }
   ],
   "source": [
    "# let us check the status of Y n NO\n",
    "plt.figure()\n",
    "sns.countplot(df['Loan_Status'])\n",
    "\n",
    "\n",
    "\n",
    "\n",
    "print('x= %f '% (df['Loan_Status'].value_counts()[1]/len(df)))\n",
    "\n",
    "\n",
    "print('y= %f' % (df['Loan_Status'].value_counts()[0] / len(df)))\n",
    "\n",
    "#percentage "
   ]
  },
  {
   "cell_type": "code",
   "execution_count": 257,
   "metadata": {},
   "outputs": [
    {
     "data": {
      "text/plain": [
       "Index(['Gender', 'Married', 'Dependents', 'Education', 'Self_Employed',\n",
       "       'ApplicantIncome', 'CoapplicantIncome', 'LoanAmount',\n",
       "       'Loan_Amount_Term', 'Credit_History', 'Property_Area', 'Loan_Status'],\n",
       "      dtype='object')"
      ]
     },
     "execution_count": 257,
     "metadata": {},
     "output_type": "execute_result"
    }
   ],
   "source": [
    "df.columns"
   ]
  },
  {
   "cell_type": "code",
   "execution_count": 258,
   "metadata": {},
   "outputs": [
    {
     "data": {
      "image/png": "[encoded data removed]",
      "text/plain": [
       "<Figure size 432x216 with 2 Axes>"
      ]
     },
     "metadata": {
      "needs_background": "light"
     },
     "output_type": "display_data"
    }
   ],
   "source": [
    "grid = sns.FacetGrid(df,col='Loan_Status')\n",
    "grid.map(sns.countplot, 'Credit_History');\n",
    "#checking if u would get a loan on ur credit_history"
   ]
  },
  {
   "cell_type": "code",
   "execution_count": 259,
   "metadata": {},
   "outputs": [
    {
     "data": {
      "text/plain": [
       "<seaborn.axisgrid.FacetGrid at 0x133bc100>"
      ]
     },
     "execution_count": 259,
     "metadata": {},
     "output_type": "execute_result"
    },
    {
     "data": {
      "image/png": "[encoded data removed]",
      "text/plain": [
       "<Figure size 432x216 with 2 Axes>"
      ]
     },
     "metadata": {
      "needs_background": "light"
     },
     "output_type": "display_data"
    }
   ],
   "source": [
    "grid = sns.FacetGrid(df,col='Married')\n",
    "grid.map(sns.countplot, 'Credit_History')"
   ]
  },
  {
   "cell_type": "code",
   "execution_count": 260,
   "metadata": {},
   "outputs": [
    {
     "data": {
      "image/png": "[encoded data removed]",
      "text/plain": [
       "<Figure size 432x288 with 1 Axes>"
      ]
     },
     "metadata": {
      "needs_background": "light"
     },
     "output_type": "display_data"
    }
   ],
   "source": [
    "# Married\n",
    "plt.figure()\n",
    "sns.countplot(x='Married', hue='Loan_Status', data=df);"
   ]
  },
  {
   "cell_type": "code",
   "execution_count": 261,
   "metadata": {},
   "outputs": [
    {
     "data": {
      "image/png": "[encoded data removed]",
      "text/plain": [
       "<Figure size 432x216 with 2 Axes>"
      ]
     },
     "metadata": {
      "needs_background": "light"
     },
     "output_type": "display_data"
    }
   ],
   "source": [
    "#education\n",
    "# If you are graduated or not, you will get almost the same chance to get a loan (No pattern)\n",
    "# Here you can see that most people did graduated, and most of them got a loan\n",
    "# on the other hand, most of people who did't graduate also got a loan, but with less percentage from people who graduated\n",
    "\n",
    "grid = sns.FacetGrid(df,col='Loan_Status')\n",
    "grid.map(sns.countplot, 'Education');"
   ]
  },
  {
   "cell_type": "code",
   "execution_count": 262,
   "metadata": {},
   "outputs": [
    {
     "data": {
      "image/png": "[encoded data removed]",
      "text/plain": [
       "<Figure size 432x288 with 1 Axes>"
      ]
     },
     "metadata": {
      "needs_background": "light"
     },
     "output_type": "display_data"
    }
   ],
   "source": [
    "#dependents acts as an imp feature as lesser the dependents more chances of getting a loan\n",
    "plt.figure()\n",
    "sns.countplot(x='Dependents', hue='Loan_Status', data=df);"
   ]
  },
  {
   "cell_type": "code",
   "execution_count": 263,
   "metadata": {},
   "outputs": [
    {
     "data": {
      "image/png": "[encoded data removed]",
      "text/plain": [
       "<Figure size 432x216 with 2 Axes>"
      ]
     },
     "metadata": {
      "needs_background": "light"
     },
     "output_type": "display_data"
    }
   ],
   "source": [
    "#self_emp also same as Education\n",
    "grid = sns.FacetGrid(df,col='Loan_Status')\n",
    "\n",
    "grid.map(sns.countplot, 'Self_Employed');"
   ]
  },
  {
   "cell_type": "code",
   "execution_count": 264,
   "metadata": {},
   "outputs": [
    {
     "data": {
      "image/png": "[encoded data removed]",
      "text/plain": [
       "<Figure size 432x288 with 1 Axes>"
      ]
     },
     "metadata": {
      "needs_background": "light"
     },
     "output_type": "display_data"
    }
   ],
   "source": [
    "plt.figure()\n",
    "sns.countplot(x='Property_Area', hue='Loan_Status', data=df);\n",
    "#chances are more in sub-urban area good feature"
   ]
  },
  {
   "cell_type": "code",
   "execution_count": 265,
   "metadata": {},
   "outputs": [
    {
     "data": {
      "image/png": "[encoded data removed]",
      "text/plain": [
       "<Figure size 432x288 with 1 Axes>"
      ]
     },
     "metadata": {
      "needs_background": "light"
     },
     "output_type": "display_data"
    }
   ],
   "source": [
    "plt.scatter(df['ApplicantIncome'], df['Loan_Status']);\n",
    "#ApplicantIncome no pattern"
   ]
  },
  {
   "cell_type": "code",
   "execution_count": 266,
   "metadata": {},
   "outputs": [
    {
     "data": {
      "text/html": [
       "<div>\n",
       "<style scoped>\n",
       "    .dataframe tbody tr th:only-of-type {\n",
       "        vertical-align: middle;\n",
       "    }\n",
       "\n",
       "    .dataframe tbody tr th {\n",
       "        vertical-align: top;\n",
       "    }\n",
       "\n",
       "    .dataframe thead th {\n",
       "        text-align: right;\n",
       "    }\n",
       "</style>\n",
       "<table border=\"1\" class=\"dataframe\">\n",
       "  <thead>\n",
       "    <tr style=\"text-align: right;\">\n",
       "      <th></th>\n",
       "      <th>ApplicantIncome</th>\n",
       "      <th>CoapplicantIncome</th>\n",
       "      <th>LoanAmount</th>\n",
       "      <th>Loan_Amount_Term</th>\n",
       "    </tr>\n",
       "    <tr>\n",
       "      <th>Loan_Status</th>\n",
       "      <th></th>\n",
       "      <th></th>\n",
       "      <th></th>\n",
       "      <th></th>\n",
       "    </tr>\n",
       "  </thead>\n",
       "  <tbody>\n",
       "    <tr>\n",
       "      <th>N</th>\n",
       "      <td>3833.5</td>\n",
       "      <td>268.0</td>\n",
       "      <td>129.0</td>\n",
       "      <td>360.0</td>\n",
       "    </tr>\n",
       "    <tr>\n",
       "      <th>Y</th>\n",
       "      <td>3812.5</td>\n",
       "      <td>1239.5</td>\n",
       "      <td>126.0</td>\n",
       "      <td>360.0</td>\n",
       "    </tr>\n",
       "  </tbody>\n",
       "</table>\n",
       "</div>"
      ],
      "text/plain": [
       "             ApplicantIncome  CoapplicantIncome  LoanAmount  Loan_Amount_Term\n",
       "Loan_Status                                                                  \n",
       "N                     3833.5              268.0       129.0             360.0\n",
       "Y                     3812.5             1239.5       126.0             360.0"
      ]
     },
     "execution_count": 266,
     "metadata": {},
     "output_type": "execute_result"
    }
   ],
   "source": [
    "df.groupby('Loan_Status').median() # median because Not affected with outliers\n",
    "#coappliant Income is a good feature as if differed with loan_status"
   ]
  },
  {
   "cell_type": "code",
   "execution_count": 267,
   "metadata": {},
   "outputs": [
    {
     "data": {
      "text/plain": [
       "Credit_History       50\n",
       "Self_Employed        32\n",
       "LoanAmount           22\n",
       "Dependents           15\n",
       "Loan_Amount_Term     14\n",
       "Gender               13\n",
       "Married               3\n",
       "Loan_Status           0\n",
       "Property_Area         0\n",
       "CoapplicantIncome     0\n",
       "ApplicantIncome       0\n",
       "Education             0\n",
       "dtype: int64"
      ]
     },
     "execution_count": 267,
     "metadata": {},
     "output_type": "execute_result"
    }
   ],
   "source": [
    "#missing values \n",
    "df.isnull().sum().sort_values(ascending= False)"
   ]
  },
  {
   "cell_type": "code",
   "execution_count": 268,
   "metadata": {},
   "outputs": [],
   "source": [
    "# We will separate the numerical columns from the categorical\n",
    "\n",
    "cat_data = []\n",
    "num_data = []\n",
    "\n",
    "for i,c in enumerate(df.dtypes):\n",
    "    if c == object:\n",
    "        cat_data.append(df.iloc[:, i])\n",
    "    else :\n",
    "        num_data.append(df.iloc[:, i])\n",
    "        "
   ]
  },
  {
   "cell_type": "code",
   "execution_count": 269,
   "metadata": {},
   "outputs": [],
   "source": [
    "cat_data = pd.DataFrame(cat_data).transpose()\n",
    "num_data = pd.DataFrame(num_data).transpose()"
   ]
  },
  {
   "cell_type": "code",
   "execution_count": 270,
   "metadata": {},
   "outputs": [
    {
     "data": {
      "text/html": [
       "<div>\n",
       "<style scoped>\n",
       "    .dataframe tbody tr th:only-of-type {\n",
       "        vertical-align: middle;\n",
       "    }\n",
       "\n",
       "    .dataframe tbody tr th {\n",
       "        vertical-align: top;\n",
       "    }\n",
       "\n",
       "    .dataframe thead th {\n",
       "        text-align: right;\n",
       "    }\n",
       "</style>\n",
       "<table border=\"1\" class=\"dataframe\">\n",
       "  <thead>\n",
       "    <tr style=\"text-align: right;\">\n",
       "      <th></th>\n",
       "      <th>Gender</th>\n",
       "      <th>Married</th>\n",
       "      <th>Dependents</th>\n",
       "      <th>Education</th>\n",
       "      <th>Self_Employed</th>\n",
       "      <th>Credit_History</th>\n",
       "      <th>Property_Area</th>\n",
       "      <th>Loan_Status</th>\n",
       "    </tr>\n",
       "  </thead>\n",
       "  <tbody>\n",
       "    <tr>\n",
       "      <th>0</th>\n",
       "      <td>Male</td>\n",
       "      <td>No</td>\n",
       "      <td>0</td>\n",
       "      <td>Graduate</td>\n",
       "      <td>No</td>\n",
       "      <td>1</td>\n",
       "      <td>Urban</td>\n",
       "      <td>Y</td>\n",
       "    </tr>\n",
       "    <tr>\n",
       "      <th>1</th>\n",
       "      <td>Male</td>\n",
       "      <td>Yes</td>\n",
       "      <td>1</td>\n",
       "      <td>Graduate</td>\n",
       "      <td>No</td>\n",
       "      <td>1</td>\n",
       "      <td>Rural</td>\n",
       "      <td>N</td>\n",
       "    </tr>\n",
       "    <tr>\n",
       "      <th>2</th>\n",
       "      <td>Male</td>\n",
       "      <td>Yes</td>\n",
       "      <td>0</td>\n",
       "      <td>Graduate</td>\n",
       "      <td>Yes</td>\n",
       "      <td>1</td>\n",
       "      <td>Urban</td>\n",
       "      <td>Y</td>\n",
       "    </tr>\n",
       "    <tr>\n",
       "      <th>3</th>\n",
       "      <td>Male</td>\n",
       "      <td>Yes</td>\n",
       "      <td>0</td>\n",
       "      <td>Not Graduate</td>\n",
       "      <td>No</td>\n",
       "      <td>1</td>\n",
       "      <td>Urban</td>\n",
       "      <td>Y</td>\n",
       "    </tr>\n",
       "    <tr>\n",
       "      <th>4</th>\n",
       "      <td>Male</td>\n",
       "      <td>No</td>\n",
       "      <td>0</td>\n",
       "      <td>Graduate</td>\n",
       "      <td>No</td>\n",
       "      <td>1</td>\n",
       "      <td>Urban</td>\n",
       "      <td>Y</td>\n",
       "    </tr>\n",
       "  </tbody>\n",
       "</table>\n",
       "</div>"
      ],
      "text/plain": [
       "  Gender Married Dependents     Education Self_Employed Credit_History  \\\n",
       "0   Male      No          0      Graduate            No              1   \n",
       "1   Male     Yes          1      Graduate            No              1   \n",
       "2   Male     Yes          0      Graduate           Yes              1   \n",
       "3   Male     Yes          0  Not Graduate            No              1   \n",
       "4   Male      No          0      Graduate            No              1   \n",
       "\n",
       "  Property_Area Loan_Status  \n",
       "0         Urban           Y  \n",
       "1         Rural           N  \n",
       "2         Urban           Y  \n",
       "3         Urban           Y  \n",
       "4         Urban           Y  "
      ]
     },
     "execution_count": 270,
     "metadata": {},
     "output_type": "execute_result"
    }
   ],
   "source": [
    "cat_data.head()#categorical data"
   ]
  },
  {
   "cell_type": "code",
   "execution_count": 271,
   "metadata": {},
   "outputs": [
    {
     "data": {
      "text/html": [
       "<div>\n",
       "<style scoped>\n",
       "    .dataframe tbody tr th:only-of-type {\n",
       "        vertical-align: middle;\n",
       "    }\n",
       "\n",
       "    .dataframe tbody tr th {\n",
       "        vertical-align: top;\n",
       "    }\n",
       "\n",
       "    .dataframe thead th {\n",
       "        text-align: right;\n",
       "    }\n",
       "</style>\n",
       "<table border=\"1\" class=\"dataframe\">\n",
       "  <thead>\n",
       "    <tr style=\"text-align: right;\">\n",
       "      <th></th>\n",
       "      <th>ApplicantIncome</th>\n",
       "      <th>CoapplicantIncome</th>\n",
       "      <th>LoanAmount</th>\n",
       "      <th>Loan_Amount_Term</th>\n",
       "    </tr>\n",
       "  </thead>\n",
       "  <tbody>\n",
       "    <tr>\n",
       "      <th>0</th>\n",
       "      <td>5849.0</td>\n",
       "      <td>0.0</td>\n",
       "      <td>NaN</td>\n",
       "      <td>360.0</td>\n",
       "    </tr>\n",
       "    <tr>\n",
       "      <th>1</th>\n",
       "      <td>4583.0</td>\n",
       "      <td>1508.0</td>\n",
       "      <td>128.0</td>\n",
       "      <td>360.0</td>\n",
       "    </tr>\n",
       "    <tr>\n",
       "      <th>2</th>\n",
       "      <td>3000.0</td>\n",
       "      <td>0.0</td>\n",
       "      <td>66.0</td>\n",
       "      <td>360.0</td>\n",
       "    </tr>\n",
       "    <tr>\n",
       "      <th>3</th>\n",
       "      <td>2583.0</td>\n",
       "      <td>2358.0</td>\n",
       "      <td>120.0</td>\n",
       "      <td>360.0</td>\n",
       "    </tr>\n",
       "    <tr>\n",
       "      <th>4</th>\n",
       "      <td>6000.0</td>\n",
       "      <td>0.0</td>\n",
       "      <td>141.0</td>\n",
       "      <td>360.0</td>\n",
       "    </tr>\n",
       "  </tbody>\n",
       "</table>\n",
       "</div>"
      ],
      "text/plain": [
       "   ApplicantIncome  CoapplicantIncome  LoanAmount  Loan_Amount_Term\n",
       "0           5849.0                0.0         NaN             360.0\n",
       "1           4583.0             1508.0       128.0             360.0\n",
       "2           3000.0                0.0        66.0             360.0\n",
       "3           2583.0             2358.0       120.0             360.0\n",
       "4           6000.0                0.0       141.0             360.0"
      ]
     },
     "execution_count": 271,
     "metadata": {},
     "output_type": "execute_result"
    }
   ],
   "source": [
    "num_data.head() #numerical data"
   ]
  },
  {
   "cell_type": "code",
   "execution_count": 272,
   "metadata": {},
   "outputs": [
    {
     "data": {
      "text/plain": [
       "False"
      ]
     },
     "execution_count": 272,
     "metadata": {},
     "output_type": "execute_result"
    }
   ],
   "source": [
    "# cat_data\n",
    "# If you want to fill every column with its own most frequent value you can use\n",
    "\n",
    "cat_data = cat_data.apply(lambda x:x.fillna(x.value_counts().index[0]))\n",
    "cat_data.isnull().sum().any() # no more missing data "
   ]
  },
  {
   "cell_type": "code",
   "execution_count": 273,
   "metadata": {},
   "outputs": [
    {
     "data": {
      "text/plain": [
       "False"
      ]
     },
     "execution_count": 273,
     "metadata": {},
     "output_type": "execute_result"
    }
   ],
   "source": [
    "# num_data\n",
    "# fill every missing value with their previous value in the same column\n",
    "\n",
    "num_data.fillna(method='bfill', inplace=True)\n",
    "num_data.isnull().sum().any() # no more missing data "
   ]
  },
  {
   "cell_type": "code",
   "execution_count": 274,
   "metadata": {},
   "outputs": [
    {
     "data": {
      "text/html": [
       "<div>\n",
       "<style scoped>\n",
       "    .dataframe tbody tr th:only-of-type {\n",
       "        vertical-align: middle;\n",
       "    }\n",
       "\n",
       "    .dataframe tbody tr th {\n",
       "        vertical-align: top;\n",
       "    }\n",
       "\n",
       "    .dataframe thead th {\n",
       "        text-align: right;\n",
       "    }\n",
       "</style>\n",
       "<table border=\"1\" class=\"dataframe\">\n",
       "  <thead>\n",
       "    <tr style=\"text-align: right;\">\n",
       "      <th></th>\n",
       "      <th>Gender</th>\n",
       "      <th>Married</th>\n",
       "      <th>Dependents</th>\n",
       "      <th>Education</th>\n",
       "      <th>Self_Employed</th>\n",
       "      <th>Credit_History</th>\n",
       "      <th>Property_Area</th>\n",
       "      <th>Loan_Status</th>\n",
       "    </tr>\n",
       "  </thead>\n",
       "  <tbody>\n",
       "    <tr>\n",
       "      <th>0</th>\n",
       "      <td>Male</td>\n",
       "      <td>No</td>\n",
       "      <td>0</td>\n",
       "      <td>Graduate</td>\n",
       "      <td>No</td>\n",
       "      <td>1.0</td>\n",
       "      <td>Urban</td>\n",
       "      <td>Y</td>\n",
       "    </tr>\n",
       "    <tr>\n",
       "      <th>1</th>\n",
       "      <td>Male</td>\n",
       "      <td>Yes</td>\n",
       "      <td>1</td>\n",
       "      <td>Graduate</td>\n",
       "      <td>No</td>\n",
       "      <td>1.0</td>\n",
       "      <td>Rural</td>\n",
       "      <td>N</td>\n",
       "    </tr>\n",
       "    <tr>\n",
       "      <th>2</th>\n",
       "      <td>Male</td>\n",
       "      <td>Yes</td>\n",
       "      <td>0</td>\n",
       "      <td>Graduate</td>\n",
       "      <td>Yes</td>\n",
       "      <td>1.0</td>\n",
       "      <td>Urban</td>\n",
       "      <td>Y</td>\n",
       "    </tr>\n",
       "    <tr>\n",
       "      <th>3</th>\n",
       "      <td>Male</td>\n",
       "      <td>Yes</td>\n",
       "      <td>0</td>\n",
       "      <td>Not Graduate</td>\n",
       "      <td>No</td>\n",
       "      <td>1.0</td>\n",
       "      <td>Urban</td>\n",
       "      <td>Y</td>\n",
       "    </tr>\n",
       "    <tr>\n",
       "      <th>4</th>\n",
       "      <td>Male</td>\n",
       "      <td>No</td>\n",
       "      <td>0</td>\n",
       "      <td>Graduate</td>\n",
       "      <td>No</td>\n",
       "      <td>1.0</td>\n",
       "      <td>Urban</td>\n",
       "      <td>Y</td>\n",
       "    </tr>\n",
       "  </tbody>\n",
       "</table>\n",
       "</div>"
      ],
      "text/plain": [
       "  Gender Married Dependents     Education Self_Employed  Credit_History  \\\n",
       "0   Male      No          0      Graduate            No             1.0   \n",
       "1   Male     Yes          1      Graduate            No             1.0   \n",
       "2   Male     Yes          0      Graduate           Yes             1.0   \n",
       "3   Male     Yes          0  Not Graduate            No             1.0   \n",
       "4   Male      No          0      Graduate            No             1.0   \n",
       "\n",
       "  Property_Area Loan_Status  \n",
       "0         Urban           Y  \n",
       "1         Rural           N  \n",
       "2         Urban           Y  \n",
       "3         Urban           Y  \n",
       "4         Urban           Y  "
      ]
     },
     "execution_count": 274,
     "metadata": {},
     "output_type": "execute_result"
    }
   ],
   "source": [
    "from sklearn.preprocessing import LabelEncoder\n",
    "le = LabelEncoder()\n",
    "cat_data.head()"
   ]
  },
  {
   "cell_type": "code",
   "execution_count": 275,
   "metadata": {},
   "outputs": [],
   "source": [
    "# transform the target column\n",
    "\n",
    "target_values = {'Y': 0 , 'N' : 1}\n",
    "\n",
    "target = cat_data['Loan_Status']\n",
    "cat_data.drop('Loan_Status', axis=1, inplace=True)\n",
    "\n",
    "target = target.map(target_values)"
   ]
  },
  {
   "cell_type": "code",
   "execution_count": 276,
   "metadata": {},
   "outputs": [
    {
     "data": {
      "text/plain": [
       "0    0\n",
       "1    1\n",
       "2    0\n",
       "3    0\n",
       "4    0\n",
       "Name: Loan_Status, dtype: int64"
      ]
     },
     "execution_count": 276,
     "metadata": {},
     "output_type": "execute_result"
    }
   ],
   "source": [
    "target.head()"
   ]
  },
  {
   "cell_type": "code",
   "execution_count": 277,
   "metadata": {},
   "outputs": [],
   "source": [
    "# transform other columns\n",
    "\n",
    "for i in cat_data:\n",
    "    cat_data[i] = le.fit_transform(cat_data[i])"
   ]
  },
  {
   "cell_type": "code",
   "execution_count": 278,
   "metadata": {},
   "outputs": [
    {
     "data": {
      "text/html": [
       "<div>\n",
       "<style scoped>\n",
       "    .dataframe tbody tr th:only-of-type {\n",
       "        vertical-align: middle;\n",
       "    }\n",
       "\n",
       "    .dataframe tbody tr th {\n",
       "        vertical-align: top;\n",
       "    }\n",
       "\n",
       "    .dataframe thead th {\n",
       "        text-align: right;\n",
       "    }\n",
       "</style>\n",
       "<table border=\"1\" class=\"dataframe\">\n",
       "  <thead>\n",
       "    <tr style=\"text-align: right;\">\n",
       "      <th></th>\n",
       "      <th>Gender</th>\n",
       "      <th>Married</th>\n",
       "      <th>Dependents</th>\n",
       "      <th>Education</th>\n",
       "      <th>Self_Employed</th>\n",
       "      <th>Credit_History</th>\n",
       "      <th>Property_Area</th>\n",
       "    </tr>\n",
       "  </thead>\n",
       "  <tbody>\n",
       "    <tr>\n",
       "      <th>0</th>\n",
       "      <td>1</td>\n",
       "      <td>0</td>\n",
       "      <td>0</td>\n",
       "      <td>0</td>\n",
       "      <td>0</td>\n",
       "      <td>1</td>\n",
       "      <td>2</td>\n",
       "    </tr>\n",
       "    <tr>\n",
       "      <th>1</th>\n",
       "      <td>1</td>\n",
       "      <td>1</td>\n",
       "      <td>1</td>\n",
       "      <td>0</td>\n",
       "      <td>0</td>\n",
       "      <td>1</td>\n",
       "      <td>0</td>\n",
       "    </tr>\n",
       "    <tr>\n",
       "      <th>2</th>\n",
       "      <td>1</td>\n",
       "      <td>1</td>\n",
       "      <td>0</td>\n",
       "      <td>0</td>\n",
       "      <td>1</td>\n",
       "      <td>1</td>\n",
       "      <td>2</td>\n",
       "    </tr>\n",
       "    <tr>\n",
       "      <th>3</th>\n",
       "      <td>1</td>\n",
       "      <td>1</td>\n",
       "      <td>0</td>\n",
       "      <td>1</td>\n",
       "      <td>0</td>\n",
       "      <td>1</td>\n",
       "      <td>2</td>\n",
       "    </tr>\n",
       "    <tr>\n",
       "      <th>4</th>\n",
       "      <td>1</td>\n",
       "      <td>0</td>\n",
       "      <td>0</td>\n",
       "      <td>0</td>\n",
       "      <td>0</td>\n",
       "      <td>1</td>\n",
       "      <td>2</td>\n",
       "    </tr>\n",
       "  </tbody>\n",
       "</table>\n",
       "</div>"
      ],
      "text/plain": [
       "   Gender  Married  Dependents  Education  Self_Employed  Credit_History  \\\n",
       "0       1        0           0          0              0               1   \n",
       "1       1        1           1          0              0               1   \n",
       "2       1        1           0          0              1               1   \n",
       "3       1        1           0          1              0               1   \n",
       "4       1        0           0          0              0               1   \n",
       "\n",
       "   Property_Area  \n",
       "0              2  \n",
       "1              0  \n",
       "2              2  \n",
       "3              2  \n",
       "4              2  "
      ]
     },
     "execution_count": 278,
     "metadata": {},
     "output_type": "execute_result"
    }
   ],
   "source": [
    "cat_data.head()"
   ]
  },
  {
   "cell_type": "code",
   "execution_count": 279,
   "metadata": {},
   "outputs": [],
   "source": [
    "df = pd.concat([cat_data,num_data,target] , axis=1)"
   ]
  },
  {
   "cell_type": "code",
   "execution_count": 280,
   "metadata": {},
   "outputs": [
    {
     "data": {
      "text/html": [
       "<div>\n",
       "<style scoped>\n",
       "    .dataframe tbody tr th:only-of-type {\n",
       "        vertical-align: middle;\n",
       "    }\n",
       "\n",
       "    .dataframe tbody tr th {\n",
       "        vertical-align: top;\n",
       "    }\n",
       "\n",
       "    .dataframe thead th {\n",
       "        text-align: right;\n",
       "    }\n",
       "</style>\n",
       "<table border=\"1\" class=\"dataframe\">\n",
       "  <thead>\n",
       "    <tr style=\"text-align: right;\">\n",
       "      <th></th>\n",
       "      <th>Gender</th>\n",
       "      <th>Married</th>\n",
       "      <th>Dependents</th>\n",
       "      <th>Education</th>\n",
       "      <th>Self_Employed</th>\n",
       "      <th>Credit_History</th>\n",
       "      <th>Property_Area</th>\n",
       "      <th>ApplicantIncome</th>\n",
       "      <th>CoapplicantIncome</th>\n",
       "      <th>LoanAmount</th>\n",
       "      <th>Loan_Amount_Term</th>\n",
       "      <th>Loan_Status</th>\n",
       "    </tr>\n",
       "  </thead>\n",
       "  <tbody>\n",
       "    <tr>\n",
       "      <th>0</th>\n",
       "      <td>1</td>\n",
       "      <td>0</td>\n",
       "      <td>0</td>\n",
       "      <td>0</td>\n",
       "      <td>0</td>\n",
       "      <td>1</td>\n",
       "      <td>2</td>\n",
       "      <td>5849.0</td>\n",
       "      <td>0.0</td>\n",
       "      <td>128.0</td>\n",
       "      <td>360.0</td>\n",
       "      <td>0</td>\n",
       "    </tr>\n",
       "    <tr>\n",
       "      <th>1</th>\n",
       "      <td>1</td>\n",
       "      <td>1</td>\n",
       "      <td>1</td>\n",
       "      <td>0</td>\n",
       "      <td>0</td>\n",
       "      <td>1</td>\n",
       "      <td>0</td>\n",
       "      <td>4583.0</td>\n",
       "      <td>1508.0</td>\n",
       "      <td>128.0</td>\n",
       "      <td>360.0</td>\n",
       "      <td>1</td>\n",
       "    </tr>\n",
       "    <tr>\n",
       "      <th>2</th>\n",
       "      <td>1</td>\n",
       "      <td>1</td>\n",
       "      <td>0</td>\n",
       "      <td>0</td>\n",
       "      <td>1</td>\n",
       "      <td>1</td>\n",
       "      <td>2</td>\n",
       "      <td>3000.0</td>\n",
       "      <td>0.0</td>\n",
       "      <td>66.0</td>\n",
       "      <td>360.0</td>\n",
       "      <td>0</td>\n",
       "    </tr>\n",
       "    <tr>\n",
       "      <th>3</th>\n",
       "      <td>1</td>\n",
       "      <td>1</td>\n",
       "      <td>0</td>\n",
       "      <td>1</td>\n",
       "      <td>0</td>\n",
       "      <td>1</td>\n",
       "      <td>2</td>\n",
       "      <td>2583.0</td>\n",
       "      <td>2358.0</td>\n",
       "      <td>120.0</td>\n",
       "      <td>360.0</td>\n",
       "      <td>0</td>\n",
       "    </tr>\n",
       "    <tr>\n",
       "      <th>4</th>\n",
       "      <td>1</td>\n",
       "      <td>0</td>\n",
       "      <td>0</td>\n",
       "      <td>0</td>\n",
       "      <td>0</td>\n",
       "      <td>1</td>\n",
       "      <td>2</td>\n",
       "      <td>6000.0</td>\n",
       "      <td>0.0</td>\n",
       "      <td>141.0</td>\n",
       "      <td>360.0</td>\n",
       "      <td>0</td>\n",
       "    </tr>\n",
       "  </tbody>\n",
       "</table>\n",
       "</div>"
      ],
      "text/plain": [
       "   Gender  Married  Dependents  Education  Self_Employed  Credit_History  \\\n",
       "0       1        0           0          0              0               1   \n",
       "1       1        1           1          0              0               1   \n",
       "2       1        1           0          0              1               1   \n",
       "3       1        1           0          1              0               1   \n",
       "4       1        0           0          0              0               1   \n",
       "\n",
       "   Property_Area  ApplicantIncome  CoapplicantIncome  LoanAmount  \\\n",
       "0              2           5849.0                0.0       128.0   \n",
       "1              0           4583.0             1508.0       128.0   \n",
       "2              2           3000.0                0.0        66.0   \n",
       "3              2           2583.0             2358.0       120.0   \n",
       "4              2           6000.0                0.0       141.0   \n",
       "\n",
       "   Loan_Amount_Term  Loan_Status  \n",
       "0             360.0            0  \n",
       "1             360.0            1  \n",
       "2             360.0            0  \n",
       "3             360.0            0  \n",
       "4             360.0            0  "
      ]
     },
     "execution_count": 280,
     "metadata": {},
     "output_type": "execute_result"
    }
   ],
   "source": [
    "df.head()"
   ]
  },
  {
   "cell_type": "markdown",
   "metadata": {},
   "source": [
    "Train the data"
   ]
  },
  {
   "cell_type": "code",
   "execution_count": 281,
   "metadata": {},
   "outputs": [],
   "source": [
    "X = pd.concat([cat_data,num_data] , axis = 1)\n",
    "Y = target"
   ]
  },
  {
   "cell_type": "code",
   "execution_count": 282,
   "metadata": {},
   "outputs": [
    {
     "name": "stdout",
     "output_type": "stream",
     "text": [
      "X_train shape (491, 11)\n",
      "y_train shape (491,)\n",
      "X_test shape (123, 11)\n",
      "y_test shape (123,)\n",
      "\n",
      "ratio of target in y_train : [0.69653768 0.30346232]\n",
      "ratio of target in y_test : [0.6504065 0.3495935]\n",
      "ratio of target in original_data : [0.68729642 0.31270358]\n"
     ]
    }
   ],
   "source": [
    "from sklearn.model_selection import train_test_split\n",
    "X_train, X_test, y_train, y_test = train_test_split(X, Y, test_size=0.2, random_state=42)\n",
    "    \n",
    "print('X_train shape', X_train.shape)\n",
    "print('y_train shape', y_train.shape)\n",
    "print('X_test shape', X_test.shape)\n",
    "print('y_test shape', y_test.shape)\n",
    "\n",
    "# almost same ratio\n",
    "print('\\nratio of target in y_train :',y_train.value_counts().values/ len(y_train))\n",
    "print('ratio of target in y_test :',y_test.value_counts().values/ len(y_test))\n",
    "print('ratio of target in original_data :',df['Loan_Status'].value_counts().values/ len(df))"
   ]
  },
  {
   "cell_type": "code",
   "execution_count": 283,
   "metadata": {},
   "outputs": [],
   "source": [
    "# we will use 4 different models for training\n",
    "\n",
    "from sklearn.linear_model import LogisticRegression\n",
    "from sklearn.neighbors import KNeighborsClassifier\n",
    "from sklearn.svm import SVC\n",
    "from sklearn.tree import DecisionTreeClassifier\n",
    "\n",
    "models = {\n",
    "    'LogisticRegression': LogisticRegression(random_state=42),\n",
    "    'KNeighborsClassifier': KNeighborsClassifier(),\n",
    "    'SVC': SVC(random_state=42),\n",
    "    'DecisionTreeClassifier': DecisionTreeClassifier(max_depth=1, random_state=42)\n",
    "}"
   ]
  },
  {
   "cell_type": "markdown",
   "metadata": {},
   "source": [
    "Build functions"
   ]
  },
  {
   "cell_type": "code",
   "execution_count": 284,
   "metadata": {},
   "outputs": [],
   "source": [
    "#for calculating loss\n",
    "from sklearn.metrics import precision_score, recall_score, f1_score, log_loss, accuracy_score\n",
    "\n",
    "def loss(y_true , y_pred, retu=False) :\n",
    "    pre = precision_score(y_true, y_pred)\n",
    "    rec = recall_score(y_true, y_pred)\n",
    "    f1 = f1_score(y_true, y_pred)\n",
    "    loss = log_loss(y_true, y_pred)\n",
    "    acc = accuracy_score(y_true, y_pred)\n",
    "    \n",
    "    if retu:\n",
    "        return pre, rec, f1, loss, acc\n",
    "    else:\n",
    "        print('  pre: %.3f\\n  rec: %.3f\\n  f1: %.3f\\n  loss: %.3f\\n  acc: %.3f' % (pre, rec, f1, loss, acc))\n",
    "    "
   ]
  },
  {
   "cell_type": "code",
   "execution_count": 285,
   "metadata": {},
   "outputs": [
    {
     "name": "stdout",
     "output_type": "stream",
     "text": [
      "LogisticRegression :\n",
      "  pre: 0.904\n",
      "  rec: 0.443\n",
      "  f1: 0.595\n",
      "  loss: 6.331\n",
      "  acc: 0.817\n",
      "------------------------------\n",
      "KNeighborsClassifier :\n",
      "  pre: 0.614\n",
      "  rec: 0.342\n",
      "  f1: 0.440\n",
      "  loss: 9.145\n",
      "  acc: 0.735\n",
      "------------------------------\n",
      "SVC :\n",
      "  pre: 1.000\n",
      "  rec: 0.020\n",
      "  f1: 0.039\n",
      "  loss: 10.270\n",
      "  acc: 0.703\n",
      "------------------------------\n",
      "DecisionTreeClassifier :\n",
      "  pre: 0.914\n",
      "  rec: 0.430\n",
      "  f1: 0.584\n",
      "  loss: 6.401\n",
      "  acc: 0.815\n",
      "------------------------------\n"
     ]
    }
   ],
   "source": [
    "# for training train_eval_train\n",
    "\n",
    "def train_eval_train(models , X ,y):\n",
    "    for name, model in models.items():\n",
    "        print(name,':')\n",
    "        model.fit(X, y)\n",
    "        loss(y, model.predict(X))\n",
    "        print('-'*30)\n",
    "        \n",
    "train_eval_train(models, X_train, y_train)\n",
    "\n",
    "\n",
    "\n"
   ]
  },
  {
   "cell_type": "code",
   "execution_count": 286,
   "metadata": {},
   "outputs": [
    {
     "name": "stdout",
     "output_type": "stream",
     "text": [
      "LogisticRegression :\n",
      " pre     0.900556\n",
      " rec     0.436190\n",
      " f1      0.574920\n",
      " loss    6.608905\n",
      " acc     0.808653\n",
      "Name: 0, dtype: float64\n",
      "------------------------------\n",
      "KNeighborsClassifier :\n",
      " pre      0.360685\n",
      " rec      0.188095\n",
      " f1       0.241444\n",
      " loss    11.819387\n",
      " acc      0.657796\n",
      "Name: 0, dtype: float64\n",
      "------------------------------\n",
      "SVC :\n",
      " pre      0.000000\n",
      " rec      0.000000\n",
      " f1       0.000000\n",
      " loss    10.622439\n",
      " acc      0.692449\n",
      "Name: 0, dtype: float64\n",
      "------------------------------\n",
      "DecisionTreeClassifier :\n",
      " pre     0.931389\n",
      " rec     0.429048\n",
      " f1      0.577162\n",
      " loss    6.397437\n",
      " acc     0.814776\n",
      "Name: 0, dtype: float64\n",
      "------------------------------\n"
     ]
    }
   ],
   "source": [
    "#evaluating on different data\n",
    "#train_eval_cross\n",
    "from sklearn.model_selection import StratifiedKFold\n",
    "skf = StratifiedKFold(n_splits=10, random_state=42, shuffle=True)\n",
    "\n",
    "def train_eval_cross(models, X, y, folds):\n",
    "    # we will change X & y to dataframe because we will use iloc (iloc don't work on numpy array)\n",
    "    X = pd.DataFrame(X) \n",
    "    y = pd.DataFrame(y)\n",
    "    idx = [' pre', ' rec', ' f1', ' loss', ' acc']\n",
    "    for name, model in models.items():\n",
    "        ls = []\n",
    "        print(name,':')\n",
    "\n",
    "        for train, test in folds.split(X, y):\n",
    "            model.fit(X.iloc[train], y.iloc[train]) \n",
    "            y_pred = model.predict(X.iloc[test]) \n",
    "            ls.append(loss(y.iloc[test], y_pred, retu=True))\n",
    "        print(pd.DataFrame(np.array(ls).mean(axis=0), index=idx)[0])  #[0] because we don't want to show the name of the column\n",
    "        print('-'*30)\n",
    "        \n",
    "train_eval_cross(models, X_train, y_train, skf)\n",
    "\n",
    "# ohhh, as i said SVC is just memorizing the data, and you can see that here DecisionTreeClassifier is better than LogisticRegression"
   ]
  },
  {
   "cell_type": "markdown",
   "metadata": {},
   "source": [
    "Improve the model"
   ]
  },
  {
   "cell_type": "code",
   "execution_count": 287,
   "metadata": {},
   "outputs": [
    {
     "data": {
      "image/png": "[encoded data removed]",
      "text/plain": [
       "<Figure size 720x504 with 2 Axes>"
      ]
     },
     "metadata": {
      "needs_background": "light"
     },
     "output_type": "display_data"
    }
   ],
   "source": [
    "# ooh, we got it right for most of the features, as you can see we've say at the first of the kernel ,\n",
    "# that Credit_Histroy and Married etc, are good features, actually Credit_Histroy is the best .\n",
    "\n",
    "data_corr = pd.concat([X_train, y_train], axis=1)\n",
    "corr = data_corr.corr()\n",
    "plt.figure(figsize=(10,7))\n",
    "sns.heatmap(corr, annot=True);\n",
    "\n",
    "# here we got 58% similarity between LoanAmount & ApplicantIncome \n",
    "# and that may be bad for our model so we will see what we can do"
   ]
  },
  {
   "cell_type": "code",
   "execution_count": 288,
   "metadata": {},
   "outputs": [
    {
     "data": {
      "text/html": [
       "<div>\n",
       "<style scoped>\n",
       "    .dataframe tbody tr th:only-of-type {\n",
       "        vertical-align: middle;\n",
       "    }\n",
       "\n",
       "    .dataframe tbody tr th {\n",
       "        vertical-align: top;\n",
       "    }\n",
       "\n",
       "    .dataframe thead th {\n",
       "        text-align: right;\n",
       "    }\n",
       "</style>\n",
       "<table border=\"1\" class=\"dataframe\">\n",
       "  <thead>\n",
       "    <tr style=\"text-align: right;\">\n",
       "      <th></th>\n",
       "      <th>Gender</th>\n",
       "      <th>Married</th>\n",
       "      <th>Dependents</th>\n",
       "      <th>Education</th>\n",
       "      <th>Self_Employed</th>\n",
       "      <th>Credit_History</th>\n",
       "      <th>Property_Area</th>\n",
       "      <th>ApplicantIncome</th>\n",
       "      <th>CoapplicantIncome</th>\n",
       "      <th>LoanAmount</th>\n",
       "      <th>Loan_Amount_Term</th>\n",
       "    </tr>\n",
       "  </thead>\n",
       "  <tbody>\n",
       "    <tr>\n",
       "      <th>83</th>\n",
       "      <td>1</td>\n",
       "      <td>1</td>\n",
       "      <td>0</td>\n",
       "      <td>0</td>\n",
       "      <td>0</td>\n",
       "      <td>1</td>\n",
       "      <td>1</td>\n",
       "      <td>6000.0</td>\n",
       "      <td>2250.0</td>\n",
       "      <td>265.0</td>\n",
       "      <td>360.0</td>\n",
       "    </tr>\n",
       "    <tr>\n",
       "      <th>90</th>\n",
       "      <td>1</td>\n",
       "      <td>1</td>\n",
       "      <td>0</td>\n",
       "      <td>0</td>\n",
       "      <td>0</td>\n",
       "      <td>1</td>\n",
       "      <td>1</td>\n",
       "      <td>2958.0</td>\n",
       "      <td>2900.0</td>\n",
       "      <td>131.0</td>\n",
       "      <td>360.0</td>\n",
       "    </tr>\n",
       "    <tr>\n",
       "      <th>227</th>\n",
       "      <td>1</td>\n",
       "      <td>1</td>\n",
       "      <td>2</td>\n",
       "      <td>0</td>\n",
       "      <td>0</td>\n",
       "      <td>1</td>\n",
       "      <td>1</td>\n",
       "      <td>6250.0</td>\n",
       "      <td>1695.0</td>\n",
       "      <td>210.0</td>\n",
       "      <td>360.0</td>\n",
       "    </tr>\n",
       "    <tr>\n",
       "      <th>482</th>\n",
       "      <td>1</td>\n",
       "      <td>1</td>\n",
       "      <td>0</td>\n",
       "      <td>0</td>\n",
       "      <td>0</td>\n",
       "      <td>1</td>\n",
       "      <td>1</td>\n",
       "      <td>2083.0</td>\n",
       "      <td>3150.0</td>\n",
       "      <td>128.0</td>\n",
       "      <td>360.0</td>\n",
       "    </tr>\n",
       "    <tr>\n",
       "      <th>464</th>\n",
       "      <td>1</td>\n",
       "      <td>0</td>\n",
       "      <td>0</td>\n",
       "      <td>0</td>\n",
       "      <td>0</td>\n",
       "      <td>0</td>\n",
       "      <td>1</td>\n",
       "      <td>4166.0</td>\n",
       "      <td>0.0</td>\n",
       "      <td>98.0</td>\n",
       "      <td>360.0</td>\n",
       "    </tr>\n",
       "  </tbody>\n",
       "</table>\n",
       "</div>"
      ],
      "text/plain": [
       "     Gender  Married  Dependents  Education  Self_Employed  Credit_History  \\\n",
       "83        1        1           0          0              0               1   \n",
       "90        1        1           0          0              0               1   \n",
       "227       1        1           2          0              0               1   \n",
       "482       1        1           0          0              0               1   \n",
       "464       1        0           0          0              0               0   \n",
       "\n",
       "     Property_Area  ApplicantIncome  CoapplicantIncome  LoanAmount  \\\n",
       "83               1           6000.0             2250.0       265.0   \n",
       "90               1           2958.0             2900.0       131.0   \n",
       "227              1           6250.0             1695.0       210.0   \n",
       "482              1           2083.0             3150.0       128.0   \n",
       "464              1           4166.0                0.0        98.0   \n",
       "\n",
       "     Loan_Amount_Term  \n",
       "83              360.0  \n",
       "90              360.0  \n",
       "227             360.0  \n",
       "482             360.0  \n",
       "464             360.0  "
      ]
     },
     "execution_count": 288,
     "metadata": {},
     "output_type": "execute_result"
    }
   ],
   "source": [
    "X_train.head()\n"
   ]
  },
  {
   "cell_type": "code",
   "execution_count": 289,
   "metadata": {},
   "outputs": [],
   "source": [
    "#rent operations on diffrent features,\n",
    "# having experience in the field, and having knowledge about the data will also help\n",
    "\n",
    "X_train['new_col'] = X_train['CoapplicantIncome'] / X_train['ApplicantIncome']  \n",
    "X_train['new_col_2'] = X_train['LoanAmount'] * X_train['Loan_Amount_Term'] "
   ]
  },
  {
   "cell_type": "code",
   "execution_count": 290,
   "metadata": {},
   "outputs": [
    {
     "data": {
      "image/png": "[encoded data removed]",
      "text/plain": [
       "<Figure size 720x504 with 2 Axes>"
      ]
     },
     "metadata": {
      "needs_background": "light"
     },
     "output_type": "display_data"
    }
   ],
   "source": [
    "data_corr = pd.concat([X_train, y_train], axis=1)\n",
    "corr = data_corr.corr()\n",
    "plt.figure(figsize=(10,7))\n",
    "sns.heatmap(corr, annot=True);"
   ]
  },
  {
   "cell_type": "code",
   "execution_count": 291,
   "metadata": {},
   "outputs": [],
   "source": [
    "X_train.drop(['CoapplicantIncome', 'ApplicantIncome', 'Loan_Amount_Term', 'LoanAmount'], axis=1, inplace=True)"
   ]
  },
  {
   "cell_type": "code",
   "execution_count": 292,
   "metadata": {},
   "outputs": [
    {
     "name": "stdout",
     "output_type": "stream",
     "text": [
      "LogisticRegression :\n",
      " pre      0.050000\n",
      " rec      0.006667\n",
      " f1       0.011765\n",
      " loss    10.481463\n",
      " acc      0.696531\n",
      "Name: 0, dtype: float64\n",
      "------------------------------\n",
      "KNeighborsClassifier :\n",
      " pre      0.250278\n",
      " rec      0.147143\n",
      " f1       0.184957\n",
      " loss    13.577371\n",
      " acc      0.606898\n",
      "Name: 0, dtype: float64\n",
      "------------------------------\n",
      "SVC :\n",
      " pre      0.000000\n",
      " rec      0.000000\n",
      " f1       0.000000\n",
      " loss    10.481461\n",
      " acc      0.696531\n",
      "Name: 0, dtype: float64\n",
      "------------------------------\n",
      "DecisionTreeClassifier :\n",
      " pre     0.931389\n",
      " rec     0.429048\n",
      " f1      0.577162\n",
      " loss    6.397437\n",
      " acc     0.814776\n",
      "Name: 0, dtype: float64\n",
      "------------------------------\n"
     ]
    }
   ],
   "source": [
    "train_eval_cross(models, X_train, y_train, skf)\n",
    "# ok, SVC is improving, but LogisticRegression is overfitting\n",
    "# i wan't change nothing so we can see what will happen as we go"
   ]
  },
  {
   "cell_type": "code",
   "execution_count": 293,
   "metadata": {},
   "outputs": [
    {
     "name": "stdout",
     "output_type": "stream",
     "text": [
      "1    398\n",
      "0     93\n",
      "Name: Gender, dtype: int64\n",
      "------------------------------------------------\n",
      "1    312\n",
      "0    179\n",
      "Name: Married, dtype: int64\n",
      "------------------------------------------------\n",
      "0    293\n",
      "1     79\n",
      "2     78\n",
      "3     41\n",
      "Name: Dependents, dtype: int64\n",
      "------------------------------------------------\n",
      "0    382\n",
      "1    109\n",
      "Name: Education, dtype: int64\n",
      "------------------------------------------------\n",
      "0    424\n",
      "1     67\n",
      "Name: Self_Employed, dtype: int64\n",
      "------------------------------------------------\n",
      "1    421\n",
      "0     70\n",
      "Name: Credit_History, dtype: int64\n",
      "------------------------------------------------\n",
      "1    191\n",
      "2    159\n",
      "0    141\n",
      "Name: Property_Area, dtype: int64\n",
      "------------------------------------------------\n",
      "0.000000    221\n",
      "0.735294      2\n",
      "0.330420      1\n",
      "0.971978      1\n",
      "0.631436      1\n",
      "           ... \n",
      "0.575006      1\n",
      "0.966751      1\n",
      "0.926528      1\n",
      "0.952096      1\n",
      "0.375000      1\n",
      "Name: new_col, Length: 270, dtype: int64\n",
      "------------------------------------------------\n",
      "36000.0     13\n",
      "43200.0     13\n",
      "57600.0     12\n",
      "39600.0     11\n",
      "46080.0     10\n",
      "            ..\n",
      "67680.0      1\n",
      "129600.0     1\n",
      "43560.0      1\n",
      "23940.0      1\n",
      "10080.0      1\n",
      "Name: new_col_2, Length: 211, dtype: int64\n",
      "------------------------------------------------\n"
     ]
    }
   ],
   "source": [
    "# first lets take a look at the value counts of every label\n",
    "\n",
    "for i in range(X_train.shape[1]):\n",
    "    print(X_train.iloc[:,i].value_counts(), end='\\n------------------------------------------------\\n')"
   ]
  },
  {
   "cell_type": "code",
   "execution_count": 294,
   "metadata": {},
   "outputs": [
    {
     "data": {
      "image/png": "[encoded data removed]",
      "text/plain": [
       "<Figure size 1440x360 with 2 Axes>"
      ]
     },
     "metadata": {
      "needs_background": "light"
     },
     "output_type": "display_data"
    }
   ],
   "source": [
    "# new_col_2\n",
    "\n",
    "# we can see we got right_skewed\n",
    "# we can solve this problem with very simple statistical teqniq , by taking the logarithm of all the values\n",
    "# because when data is normally distributed that will help improving our model\n",
    "\n",
    "from scipy.stats import norm\n",
    "\n",
    "fig, ax = plt.subplots(1,2,figsize=(20,5))\n",
    "\n",
    "sns.distplot(X_train['new_col_2'], ax=ax[0], fit=norm)\n",
    "ax[0].set_title('new_col_2 before log')\n",
    "\n",
    "X_train['new_col_2'] = np.log(X_train['new_col_2'])  # logarithm of all the values\n",
    "\n",
    "sns.distplot(X_train['new_col_2'], ax=ax[1], fit=norm)\n",
    "ax[1].set_title('new_col_2 after log');\n",
    "\n",
    "\n",
    "\n",
    "\n"
   ]
  },
  {
   "cell_type": "code",
   "execution_count": 295,
   "metadata": {},
   "outputs": [
    {
     "name": "stdout",
     "output_type": "stream",
     "text": [
      "LogisticRegression :\n",
      " pre     0.931389\n",
      " rec     0.436190\n",
      " f1      0.584531\n",
      " loss    6.326950\n",
      " acc     0.816816\n",
      "Name: 0, dtype: float64\n",
      "------------------------------\n",
      "KNeighborsClassifier :\n",
      " pre     0.671667\n",
      " rec     0.260952\n",
      " f1      0.364423\n",
      " loss    9.353702\n",
      " acc     0.729184\n",
      "Name: 0, dtype: float64\n",
      "------------------------------\n",
      "SVC :\n",
      " pre      0.150000\n",
      " rec      0.042381\n",
      " f1       0.064396\n",
      " loss    10.129026\n",
      " acc      0.706735\n",
      "Name: 0, dtype: float64\n",
      "------------------------------\n",
      "DecisionTreeClassifier :\n",
      " pre     0.931389\n",
      " rec     0.429048\n",
      " f1      0.577162\n",
      " loss    6.397437\n",
      " acc     0.814776\n",
      "Name: 0, dtype: float64\n",
      "------------------------------\n"
     ]
    }
   ],
   "source": [
    "# now we will evaluate our models, and i will do that continuously ,so i don't need to mention that every time\n",
    "\n",
    "train_eval_cross(models, X_train, y_train, skf)\n",
    "\n",
    "#  our models improved really good by just doing the previous step"
   ]
  },
  {
   "cell_type": "code",
   "execution_count": 296,
   "metadata": {},
   "outputs": [
    {
     "name": "stdout",
     "output_type": "stream",
     "text": [
      "before:\n",
      "0.000000    221\n",
      "0.735294      2\n",
      "0.330420      1\n",
      "0.971978      1\n",
      "0.631436      1\n",
      "           ... \n",
      "0.575006      1\n",
      "0.966751      1\n",
      "0.926528      1\n",
      "0.952096      1\n",
      "0.375000      1\n",
      "Name: new_col, Length: 270, dtype: int64\n",
      "--------------------------------------------------\n",
      "\n",
      "after:\n",
      "1.0    270\n",
      "0.0    221\n",
      "Name: new_col, dtype: int64\n"
     ]
    }
   ],
   "source": [
    "# new_col\n",
    "\n",
    "# most of our data is 0 , so we will try to change other values to 1\n",
    "\n",
    "print('before:')\n",
    "print(X_train['new_col'].value_counts())\n",
    "\n",
    "X_train['new_col'] = [x if x==0 else 1 for x in X_train['new_col']]\n",
    "print('-'*50)\n",
    "print('\\nafter:')\n",
    "print(X_train['new_col'].value_counts())"
   ]
  },
  {
   "cell_type": "code",
   "execution_count": 297,
   "metadata": {},
   "outputs": [
    {
     "name": "stdout",
     "output_type": "stream",
     "text": [
      "LogisticRegression :\n",
      " pre     0.931389\n",
      " rec     0.429048\n",
      " f1      0.577162\n",
      " loss    6.397437\n",
      " acc     0.814776\n",
      "Name: 0, dtype: float64\n",
      "------------------------------\n",
      "KNeighborsClassifier :\n",
      " pre     0.573532\n",
      " rec     0.266667\n",
      " f1      0.355331\n",
      " loss    9.283215\n",
      " acc     0.731224\n",
      "Name: 0, dtype: float64\n",
      "------------------------------\n",
      "SVC :\n",
      " pre     0.942500\n",
      " rec     0.369048\n",
      " f1      0.514091\n",
      " loss    6.961334\n",
      " acc     0.798449\n",
      "Name: 0, dtype: float64\n",
      "------------------------------\n",
      "DecisionTreeClassifier :\n",
      " pre     0.931389\n",
      " rec     0.429048\n",
      " f1      0.577162\n",
      " loss    6.397437\n",
      " acc     0.814776\n",
      "Name: 0, dtype: float64\n",
      "------------------------------\n"
     ]
    }
   ],
   "source": [
    "train_eval_cross(models, X_train, y_train, skf)\n"
   ]
  },
  {
   "cell_type": "code",
   "execution_count": 298,
   "metadata": {},
   "outputs": [
    {
     "name": "stdout",
     "output_type": "stream",
     "text": [
      "1    398\n",
      "0     93\n",
      "Name: Gender, dtype: int64\n",
      "------------------------------------------------\n",
      "1    312\n",
      "0    179\n",
      "Name: Married, dtype: int64\n",
      "------------------------------------------------\n",
      "0    293\n",
      "1     79\n",
      "2     78\n",
      "3     41\n",
      "Name: Dependents, dtype: int64\n",
      "------------------------------------------------\n",
      "0    382\n",
      "1    109\n",
      "Name: Education, dtype: int64\n",
      "------------------------------------------------\n",
      "0    424\n",
      "1     67\n",
      "Name: Self_Employed, dtype: int64\n",
      "------------------------------------------------\n",
      "1    421\n",
      "0     70\n",
      "Name: Credit_History, dtype: int64\n",
      "------------------------------------------------\n",
      "1    191\n",
      "2    159\n",
      "0    141\n",
      "Name: Property_Area, dtype: int64\n",
      "------------------------------------------------\n",
      "1.0    270\n",
      "0.0    221\n",
      "Name: new_col, dtype: int64\n",
      "------------------------------------------------\n",
      "10.491274    13\n",
      "10.673596    13\n",
      "10.961278    12\n",
      "10.586584    11\n",
      "10.738134    10\n",
      "             ..\n",
      "9.736252      1\n",
      "11.542096     1\n",
      "11.616204     1\n",
      "11.067888     1\n",
      "8.626944      1\n",
      "Name: new_col_2, Length: 211, dtype: int64\n",
      "------------------------------------------------\n"
     ]
    }
   ],
   "source": [
    "for i in range(X_train.shape[1]):\n",
    "    print(X_train.iloc[:,i].value_counts(), end='\\n------------------------------------------------\\n')\n",
    "    \n",
    "# looks better"
   ]
  },
  {
   "cell_type": "markdown",
   "metadata": {},
   "source": [
    "Outliers"
   ]
  },
  {
   "cell_type": "code",
   "execution_count": 299,
   "metadata": {},
   "outputs": [
    {
     "data": {
      "image/png": "[encoded data removed]",
      "text/plain": [
       "<Figure size 432x288 with 1 Axes>"
      ]
     },
     "metadata": {
      "needs_background": "light"
     },
     "output_type": "display_data"
    }
   ],
   "source": [
    "# we will use boxplot to detect outliers\n",
    "\n",
    "sns.boxplot(X_train['new_col_2']);\n",
    "plt.title('new_col_2 outliers', fontsize=15);\n",
    "plt.xlabel('');"
   ]
  },
  {
   "cell_type": "code",
   "execution_count": 300,
   "metadata": {},
   "outputs": [
    {
     "name": "stdout",
     "output_type": "stream",
     "text": [
      "Quartile 25: 10.439980923050696 , Quartile 75: 10.961277846683982\n",
      "iqr: 0.5212969236332867\n",
      "Cut Off: 0.05212969236332868\n",
      "Lower: 10.387851230687367\n",
      "Upper: 11.01340753904731\n",
      "Nubers of Outliers: 223\n",
      "outliers:[11.465833857436378, 11.233211562167625, 12.231740392278752, 11.117212648304742, 11.404894720756523, 10.35201215010474, 11.090110718526951, 11.877568578558138, 11.741175953652583, 10.280553186122594, 11.05089000537367, 9.392661928770137, 10.304944639246754, 11.079060882340366, 9.469622969906265, 10.280553186122594, 8.922658299524402, 11.233211562167625, 11.62589694362939, 10.328755287940472, 12.090661794018846, 11.228438283414967, 11.05089000537367, 9.996977895623466, 11.084601062715981, 11.06788758174224, 11.542095842270008, 10.38591370178042, 9.670293665368417, 11.261382439134321, 11.021902468500418, 9.084777149000837, 9.798127036878302, 9.920344669602551, 10.31692083029347, 11.502875129116727, 12.100712129872347, 11.362567583381667, 10.298902324790792, 10.134599273499514, 11.191065940716861, 11.153962190513484, 10.112937776718335, 11.96374627479919, 10.190169124654325, 9.21830854162536, 10.346248445387989, 11.117212648304742, 11.164218690680674, 9.587406005562649, 11.039395625947934, 10.14878390849147, 10.38591370178042, 11.138377459496786, 11.033598508263609, 9.980448593672257, 9.980448593672257, 9.893437216682626, 9.798127036878302, 11.799607037088427, 11.117212648304742, 10.216837371736487, 10.280553186122594, 11.427367576608582, 10.134599273499514, 9.757305042358047, 10.249202656238518, 11.576463485774216, 8.006367567650246, 11.079060882340366, 9.71474542793925, 10.14878390849147, 11.473352689850405, 10.363440845928363, 9.893437216682626, 10.085809109330082, 10.14878390849147, 9.692766521220475, 9.441452092939569, 11.021902468500418, 11.117212648304742, 11.184421397998193, 11.117212648304742, 12.059890135352092, 10.134599273499514, 11.562857833718438, 12.059890135352092, 11.629107219259637, 10.090796650841122, 10.31692083029347, 11.106459856528481, 10.216837371736487, 11.383272256743357, 10.090796650841122, 11.153962190513484, 11.117212648304742, 9.798127036878302, 11.442932093149693, 8.99961934066053, 7.194436851100335, 9.893437216682626, 11.877568578558138, 11.106459856528481, 9.856395945002278, 9.980448593672257, 8.626944055375356, 11.261382439134321, 11.101039789059142, 9.893437216682626, 10.134599273499514, 10.268130666124037, 9.287301413112312, 11.442932093149693, 11.81569317484005, 10.280553186122594, 10.075758773476581, 9.798127036878302, 11.589886506106357, 11.136630734161844, 11.302204433654575, 11.446785662465684, 10.09823162932864, 11.889991098556695, 7.965545573129992, 12.283033686666302, 11.05089000537367, 11.090110718526951, 9.144200569471638, 10.075758773476581, 11.446785662465684, 11.772208062900312, 11.446785662465684, 11.033598508263609, 9.287301413112312, 11.117212648304742, 9.902487052202545, 11.520893634619405, 11.079060882340366, 9.51044496442652, 10.363440845928363, 10.31692083029347, 10.013238416495247, 11.117212648304742, 11.603131732856378, 11.079060882340366, 10.38591370178042, 12.092679958175083, 10.374740401182295, 11.106459856528481, 11.341425146807858, 8.006367567650246, 11.117212648304742, 11.407564949312402, 11.184421397998193, 11.439063616371772, 9.87508807801443, 9.137769679141348, 9.893437216682626, 11.427367576608582, 11.184421397998193, 9.441452092939569, 10.357742824813725, 11.427367576608582, 10.31692083029347, 11.61620381442373, 10.075758773476581, 9.736251633160215, 10.268130666124037, 9.549665677579801, 11.143599403477937, 10.083305979111964, 11.090110718526951, 9.578311275656766, 11.184421397998193, 12.254862809699606, 9.93788897925346, 11.223642111151474, 10.38591370178042, 11.666847547242485, 10.203592144986466, 11.502875129116727, 11.375041757606843, 10.298902324790792, 9.920344669602551, 10.268130666124037, 10.363440845928363, 9.692766521220475, 7.620705086838262, 10.268130666124037, 9.946547041996576, 11.056588026488308, 10.044987114809828, 11.419493520177676, 10.38591370178042, 11.502875129116727, 9.878169744551839, 11.141861783579396, 11.654425027243928, 11.122545994280104, 10.31692083029347, 10.14878390849147, 11.439063616371772, 10.134599273499514, 9.902487052202545, 11.39143556738252, 11.143599403477937, 10.134599273499514, 11.237962164926222, 11.079060882340366, 11.638676670275789, 9.400630098419315, 11.218822824715525, 9.920344669602551, 11.111850705163357, 10.190169124654325, 12.059890135352092, 12.65075846679162, 11.643953727376633, 9.441452092939569, 9.670293665368417, 11.302204433654575, 9.287301413112312, 9.392661928770137]\n",
      "\n",
      "len X_train before dropping the outliers 491\n",
      "len X_train before dropping the outliers 268\n"
     ]
    }
   ],
   "source": [
    "threshold = 0.1  # this number is hyper parameter , as much as you reduce it, as much as you remove more points\n",
    "                 # you can just try different values the deafult value is (1.5) it works good for most cases\n",
    "                 # but be careful, you don't want to try a small number because you may loss some important information from the data .\n",
    "                 # that's why I was surprised when 0.1 gived me the best result\n",
    "            \n",
    "new_col_2_out = X_train['new_col_2']\n",
    "q25, q75 = np.percentile(new_col_2_out, 25), np.percentile(new_col_2_out, 75) # Q25, Q75\n",
    "print('Quartile 25: {} , Quartile 75: {}'.format(q25, q75))\n",
    "\n",
    "iqr = q75 - q25\n",
    "print('iqr: {}'.format(iqr))\n",
    "\n",
    "cut = iqr * threshold\n",
    "lower, upper = q25 - cut, q75 + cut\n",
    "print('Cut Off: {}'.format(cut))\n",
    "print('Lower: {}'.format(lower))\n",
    "print('Upper: {}'.format(upper))\n",
    "\n",
    "outliers = [x for x in new_col_2_out if x < lower or x > upper]\n",
    "print('Nubers of Outliers: {}'.format(len(outliers)))\n",
    "print('outliers:{}'.format(outliers))\n",
    "\n",
    "data_outliers = pd.concat([X_train, y_train], axis=1)\n",
    "print('\\nlen X_train before dropping the outliers', len(data_outliers))\n",
    "data_outliers = data_outliers.drop(data_outliers[(data_outliers['new_col_2'] > upper) | (data_outliers['new_col_2'] < lower)].index)\n",
    "\n",
    "print('len X_train before dropping the outliers', len(data_outliers))"
   ]
  },
  {
   "cell_type": "code",
   "execution_count": 301,
   "metadata": {},
   "outputs": [],
   "source": [
    "X_train = data_outliers.drop('Loan_Status', axis=1)\n",
    "y_train = data_outliers['Loan_Status']"
   ]
  },
  {
   "cell_type": "code",
   "execution_count": 302,
   "metadata": {},
   "outputs": [
    {
     "data": {
      "image/png": "[encoded data removed]",
      "text/plain": [
       "<Figure size 432x288 with 1 Axes>"
      ]
     },
     "metadata": {
      "needs_background": "light"
     },
     "output_type": "display_data"
    }
   ],
   "source": [
    "sns.boxplot(X_train['new_col_2']);\n",
    "plt.title('new_col_2 without outliers', fontsize=15);\n",
    "plt.xlabel('');\n",
    "\n",
    "#removal of outliers"
   ]
  },
  {
   "cell_type": "code",
   "execution_count": 303,
   "metadata": {},
   "outputs": [
    {
     "name": "stdout",
     "output_type": "stream",
     "text": [
      "LogisticRegression :\n",
      " pre     0.903810\n",
      " rec     0.526190\n",
      " f1      0.625415\n",
      " loss    4.885628\n",
      " acc     0.858547\n",
      "Name: 0, dtype: float64\n",
      "------------------------------\n",
      "KNeighborsClassifier :\n",
      " pre     0.723333\n",
      " rec     0.319048\n",
      " f1      0.429040\n",
      " loss    7.355510\n",
      " acc     0.787037\n",
      "Name: 0, dtype: float64\n",
      "------------------------------\n",
      "SVC :\n",
      " pre     0.000000\n",
      " rec     0.000000\n",
      " f1      0.000000\n",
      " loss    8.890537\n",
      " acc     0.742593\n",
      "Name: 0, dtype: float64\n",
      "------------------------------\n",
      "DecisionTreeClassifier :\n",
      " pre     0.903810\n",
      " rec     0.526190\n",
      " f1      0.625415\n",
      " loss    4.885628\n",
      " acc     0.858547\n",
      "Name: 0, dtype: float64\n",
      "------------------------------\n"
     ]
    }
   ],
   "source": [
    "train_eval_cross(models, X_train, y_train, skf)\n",
    "\n",
    "# know we got 94.1 for precision & 53.5 for recall"
   ]
  },
  {
   "cell_type": "markdown",
   "metadata": {},
   "source": [
    "feature selection"
   ]
  },
  {
   "cell_type": "code",
   "execution_count": 304,
   "metadata": {},
   "outputs": [
    {
     "data": {
      "image/png": "[encoded data removed]",
      "text/plain": [
       "<Figure size 720x504 with 2 Axes>"
      ]
     },
     "metadata": {
      "needs_background": "light"
     },
     "output_type": "display_data"
    }
   ],
   "source": [
    "# Self_Employed got really bad corr (-0.00061) , let's try remove it and see what will happen\n",
    "\n",
    "data_corr = pd.concat([X_train, y_train], axis=1)\n",
    "corr = data_corr.corr()\n",
    "plt.figure(figsize=(10,7))\n",
    "sns.heatmap(corr, annot=True);"
   ]
  },
  {
   "cell_type": "code",
   "execution_count": 305,
   "metadata": {},
   "outputs": [
    {
     "name": "stdout",
     "output_type": "stream",
     "text": [
      "LogisticRegression :\n",
      " pre     0.903810\n",
      " rec     0.526190\n",
      " f1      0.625415\n",
      " loss    4.885628\n",
      " acc     0.858547\n",
      "Name: 0, dtype: float64\n",
      "------------------------------\n",
      "KNeighborsClassifier :\n",
      " pre     0.708333\n",
      " rec     0.290476\n",
      " f1      0.398333\n",
      " loss    7.478508\n",
      " acc     0.783476\n",
      "Name: 0, dtype: float64\n",
      "------------------------------\n",
      "SVC :\n",
      " pre     0.000000\n",
      " rec     0.000000\n",
      " f1      0.000000\n",
      " loss    8.890537\n",
      " acc     0.742593\n",
      "Name: 0, dtype: float64\n",
      "------------------------------\n",
      "DecisionTreeClassifier :\n",
      " pre     0.903810\n",
      " rec     0.526190\n",
      " f1      0.625415\n",
      " loss    4.885628\n",
      " acc     0.858547\n",
      "Name: 0, dtype: float64\n",
      "------------------------------\n"
     ]
    }
   ],
   "source": [
    "X_train.drop(['Self_Employed'], axis=1, inplace=True)\n",
    "\n",
    "train_eval_cross(models, X_train, y_train, skf)\n",
    "\n",
    "# looks like Self_Employed is not important\n",
    "# KNeighborsClassifier improved\n",
    "\n",
    "# droping all the features Except for Credit_History actually improved KNeighborsClassifier and didn't change anything in other models\n",
    "# so you can try it by you self\n",
    "# but don't forget to do that on testing data too\n",
    "\n",
    "#X_train.drop(['Self_Employed','Dependents', 'new_col_2', 'Education', 'Gender', 'Property_Area','Married', 'new_col'], axis=1, inplace=True)\n"
   ]
  },
  {
   "cell_type": "code",
   "execution_count": 306,
   "metadata": {},
   "outputs": [
    {
     "data": {
      "image/png": "[encoded data removed]",
      "text/plain": [
       "<Figure size 720x504 with 2 Axes>"
      ]
     },
     "metadata": {
      "needs_background": "light"
     },
     "output_type": "display_data"
    }
   ],
   "source": [
    "data_corr = pd.concat([X_train, y_train], axis=1)\n",
    "corr = data_corr.corr()\n",
    "plt.figure(figsize=(10,7))\n",
    "sns.heatmap(corr, annot=True);"
   ]
  },
  {
   "cell_type": "markdown",
   "metadata": {},
   "source": [
    "evaluate the models on Test_data\n",
    "here we will just repeat what we did in training data"
   ]
  },
  {
   "cell_type": "code",
   "execution_count": 307,
   "metadata": {},
   "outputs": [
    {
     "data": {
      "text/html": [
       "<div>\n",
       "<style scoped>\n",
       "    .dataframe tbody tr th:only-of-type {\n",
       "        vertical-align: middle;\n",
       "    }\n",
       "\n",
       "    .dataframe tbody tr th {\n",
       "        vertical-align: top;\n",
       "    }\n",
       "\n",
       "    .dataframe thead th {\n",
       "        text-align: right;\n",
       "    }\n",
       "</style>\n",
       "<table border=\"1\" class=\"dataframe\">\n",
       "  <thead>\n",
       "    <tr style=\"text-align: right;\">\n",
       "      <th></th>\n",
       "      <th>Gender</th>\n",
       "      <th>Married</th>\n",
       "      <th>Dependents</th>\n",
       "      <th>Education</th>\n",
       "      <th>Self_Employed</th>\n",
       "      <th>Credit_History</th>\n",
       "      <th>Property_Area</th>\n",
       "      <th>ApplicantIncome</th>\n",
       "      <th>CoapplicantIncome</th>\n",
       "      <th>LoanAmount</th>\n",
       "      <th>Loan_Amount_Term</th>\n",
       "    </tr>\n",
       "  </thead>\n",
       "  <tbody>\n",
       "    <tr>\n",
       "      <th>350</th>\n",
       "      <td>1</td>\n",
       "      <td>1</td>\n",
       "      <td>0</td>\n",
       "      <td>0</td>\n",
       "      <td>0</td>\n",
       "      <td>1</td>\n",
       "      <td>1</td>\n",
       "      <td>9083.0</td>\n",
       "      <td>0.0</td>\n",
       "      <td>228.0</td>\n",
       "      <td>360.0</td>\n",
       "    </tr>\n",
       "    <tr>\n",
       "      <th>377</th>\n",
       "      <td>1</td>\n",
       "      <td>1</td>\n",
       "      <td>0</td>\n",
       "      <td>0</td>\n",
       "      <td>0</td>\n",
       "      <td>1</td>\n",
       "      <td>1</td>\n",
       "      <td>4310.0</td>\n",
       "      <td>0.0</td>\n",
       "      <td>130.0</td>\n",
       "      <td>360.0</td>\n",
       "    </tr>\n",
       "    <tr>\n",
       "      <th>163</th>\n",
       "      <td>1</td>\n",
       "      <td>1</td>\n",
       "      <td>2</td>\n",
       "      <td>0</td>\n",
       "      <td>0</td>\n",
       "      <td>1</td>\n",
       "      <td>0</td>\n",
       "      <td>4167.0</td>\n",
       "      <td>1447.0</td>\n",
       "      <td>158.0</td>\n",
       "      <td>360.0</td>\n",
       "    </tr>\n",
       "    <tr>\n",
       "      <th>609</th>\n",
       "      <td>0</td>\n",
       "      <td>0</td>\n",
       "      <td>0</td>\n",
       "      <td>0</td>\n",
       "      <td>0</td>\n",
       "      <td>1</td>\n",
       "      <td>0</td>\n",
       "      <td>2900.0</td>\n",
       "      <td>0.0</td>\n",
       "      <td>71.0</td>\n",
       "      <td>360.0</td>\n",
       "    </tr>\n",
       "    <tr>\n",
       "      <th>132</th>\n",
       "      <td>1</td>\n",
       "      <td>0</td>\n",
       "      <td>0</td>\n",
       "      <td>0</td>\n",
       "      <td>0</td>\n",
       "      <td>1</td>\n",
       "      <td>1</td>\n",
       "      <td>2718.0</td>\n",
       "      <td>0.0</td>\n",
       "      <td>70.0</td>\n",
       "      <td>360.0</td>\n",
       "    </tr>\n",
       "  </tbody>\n",
       "</table>\n",
       "</div>"
      ],
      "text/plain": [
       "     Gender  Married  Dependents  Education  Self_Employed  Credit_History  \\\n",
       "350       1        1           0          0              0               1   \n",
       "377       1        1           0          0              0               1   \n",
       "163       1        1           2          0              0               1   \n",
       "609       0        0           0          0              0               1   \n",
       "132       1        0           0          0              0               1   \n",
       "\n",
       "     Property_Area  ApplicantIncome  CoapplicantIncome  LoanAmount  \\\n",
       "350              1           9083.0                0.0       228.0   \n",
       "377              1           4310.0                0.0       130.0   \n",
       "163              0           4167.0             1447.0       158.0   \n",
       "609              0           2900.0                0.0        71.0   \n",
       "132              1           2718.0                0.0        70.0   \n",
       "\n",
       "     Loan_Amount_Term  \n",
       "350             360.0  \n",
       "377             360.0  \n",
       "163             360.0  \n",
       "609             360.0  \n",
       "132             360.0  "
      ]
     },
     "execution_count": 307,
     "metadata": {},
     "output_type": "execute_result"
    }
   ],
   "source": [
    "X_test.head()\n"
   ]
  },
  {
   "cell_type": "code",
   "execution_count": 308,
   "metadata": {},
   "outputs": [],
   "source": [
    "X_test_new = X_test.copy()"
   ]
  },
  {
   "cell_type": "code",
   "execution_count": 309,
   "metadata": {},
   "outputs": [],
   "source": [
    "x = []\n",
    "\n",
    "X_test_new['new_col'] = X_test_new['CoapplicantIncome'] / X_test_new['ApplicantIncome']  \n",
    "X_test_new['new_col_2'] = X_test_new['LoanAmount'] * X_test_new['Loan_Amount_Term']\n",
    "X_test_new.drop(['CoapplicantIncome', 'ApplicantIncome', 'Loan_Amount_Term', 'LoanAmount','Self_Employed'], axis=1, inplace=True)\n",
    "\n",
    "X_test_new['new_col_2'] = np.log(X_test_new['new_col_2'])\n",
    "\n",
    "X_test_new['new_col'] = [x if x==0 else 1 for x in X_test_new['new_col']]"
   ]
  },
  {
   "cell_type": "code",
   "execution_count": 310,
   "metadata": {},
   "outputs": [
    {
     "data": {
      "text/html": [
       "<div>\n",
       "<style scoped>\n",
       "    .dataframe tbody tr th:only-of-type {\n",
       "        vertical-align: middle;\n",
       "    }\n",
       "\n",
       "    .dataframe tbody tr th {\n",
       "        vertical-align: top;\n",
       "    }\n",
       "\n",
       "    .dataframe thead th {\n",
       "        text-align: right;\n",
       "    }\n",
       "</style>\n",
       "<table border=\"1\" class=\"dataframe\">\n",
       "  <thead>\n",
       "    <tr style=\"text-align: right;\">\n",
       "      <th></th>\n",
       "      <th>Gender</th>\n",
       "      <th>Married</th>\n",
       "      <th>Dependents</th>\n",
       "      <th>Education</th>\n",
       "      <th>Credit_History</th>\n",
       "      <th>Property_Area</th>\n",
       "      <th>new_col</th>\n",
       "      <th>new_col_2</th>\n",
       "    </tr>\n",
       "  </thead>\n",
       "  <tbody>\n",
       "    <tr>\n",
       "      <th>350</th>\n",
       "      <td>1</td>\n",
       "      <td>1</td>\n",
       "      <td>0</td>\n",
       "      <td>0</td>\n",
       "      <td>1</td>\n",
       "      <td>1</td>\n",
       "      <td>0.0</td>\n",
       "      <td>11.315450</td>\n",
       "    </tr>\n",
       "    <tr>\n",
       "      <th>377</th>\n",
       "      <td>1</td>\n",
       "      <td>1</td>\n",
       "      <td>0</td>\n",
       "      <td>0</td>\n",
       "      <td>1</td>\n",
       "      <td>1</td>\n",
       "      <td>0.0</td>\n",
       "      <td>10.753638</td>\n",
       "    </tr>\n",
       "    <tr>\n",
       "      <th>163</th>\n",
       "      <td>1</td>\n",
       "      <td>1</td>\n",
       "      <td>2</td>\n",
       "      <td>0</td>\n",
       "      <td>1</td>\n",
       "      <td>0</td>\n",
       "      <td>1.0</td>\n",
       "      <td>10.948699</td>\n",
       "    </tr>\n",
       "    <tr>\n",
       "      <th>609</th>\n",
       "      <td>0</td>\n",
       "      <td>0</td>\n",
       "      <td>0</td>\n",
       "      <td>0</td>\n",
       "      <td>1</td>\n",
       "      <td>0</td>\n",
       "      <td>0.0</td>\n",
       "      <td>10.148784</td>\n",
       "    </tr>\n",
       "    <tr>\n",
       "      <th>132</th>\n",
       "      <td>1</td>\n",
       "      <td>0</td>\n",
       "      <td>0</td>\n",
       "      <td>0</td>\n",
       "      <td>1</td>\n",
       "      <td>1</td>\n",
       "      <td>0.0</td>\n",
       "      <td>10.134599</td>\n",
       "    </tr>\n",
       "  </tbody>\n",
       "</table>\n",
       "</div>"
      ],
      "text/plain": [
       "     Gender  Married  Dependents  Education  Credit_History  Property_Area  \\\n",
       "350       1        1           0          0               1              1   \n",
       "377       1        1           0          0               1              1   \n",
       "163       1        1           2          0               1              0   \n",
       "609       0        0           0          0               1              0   \n",
       "132       1        0           0          0               1              1   \n",
       "\n",
       "     new_col  new_col_2  \n",
       "350      0.0  11.315450  \n",
       "377      0.0  10.753638  \n",
       "163      1.0  10.948699  \n",
       "609      0.0  10.148784  \n",
       "132      0.0  10.134599  "
      ]
     },
     "execution_count": 310,
     "metadata": {},
     "output_type": "execute_result"
    }
   ],
   "source": [
    "X_test_new.head()"
   ]
  },
  {
   "cell_type": "code",
   "execution_count": 311,
   "metadata": {},
   "outputs": [
    {
     "data": {
      "text/html": [
       "<div>\n",
       "<style scoped>\n",
       "    .dataframe tbody tr th:only-of-type {\n",
       "        vertical-align: middle;\n",
       "    }\n",
       "\n",
       "    .dataframe tbody tr th {\n",
       "        vertical-align: top;\n",
       "    }\n",
       "\n",
       "    .dataframe thead th {\n",
       "        text-align: right;\n",
       "    }\n",
       "</style>\n",
       "<table border=\"1\" class=\"dataframe\">\n",
       "  <thead>\n",
       "    <tr style=\"text-align: right;\">\n",
       "      <th></th>\n",
       "      <th>Gender</th>\n",
       "      <th>Married</th>\n",
       "      <th>Dependents</th>\n",
       "      <th>Education</th>\n",
       "      <th>Credit_History</th>\n",
       "      <th>Property_Area</th>\n",
       "      <th>new_col</th>\n",
       "      <th>new_col_2</th>\n",
       "    </tr>\n",
       "  </thead>\n",
       "  <tbody>\n",
       "    <tr>\n",
       "      <th>90</th>\n",
       "      <td>1</td>\n",
       "      <td>1</td>\n",
       "      <td>0</td>\n",
       "      <td>0</td>\n",
       "      <td>1</td>\n",
       "      <td>1</td>\n",
       "      <td>1.0</td>\n",
       "      <td>10.761301</td>\n",
       "    </tr>\n",
       "    <tr>\n",
       "      <th>482</th>\n",
       "      <td>1</td>\n",
       "      <td>1</td>\n",
       "      <td>0</td>\n",
       "      <td>0</td>\n",
       "      <td>1</td>\n",
       "      <td>1</td>\n",
       "      <td>1.0</td>\n",
       "      <td>10.738134</td>\n",
       "    </tr>\n",
       "    <tr>\n",
       "      <th>464</th>\n",
       "      <td>1</td>\n",
       "      <td>0</td>\n",
       "      <td>0</td>\n",
       "      <td>0</td>\n",
       "      <td>0</td>\n",
       "      <td>1</td>\n",
       "      <td>0.0</td>\n",
       "      <td>10.471072</td>\n",
       "    </tr>\n",
       "    <tr>\n",
       "      <th>79</th>\n",
       "      <td>1</td>\n",
       "      <td>1</td>\n",
       "      <td>3</td>\n",
       "      <td>1</td>\n",
       "      <td>1</td>\n",
       "      <td>1</td>\n",
       "      <td>1.0</td>\n",
       "      <td>10.753638</td>\n",
       "    </tr>\n",
       "    <tr>\n",
       "      <th>23</th>\n",
       "      <td>1</td>\n",
       "      <td>1</td>\n",
       "      <td>2</td>\n",
       "      <td>1</td>\n",
       "      <td>0</td>\n",
       "      <td>0</td>\n",
       "      <td>1.0</td>\n",
       "      <td>10.604603</td>\n",
       "    </tr>\n",
       "  </tbody>\n",
       "</table>\n",
       "</div>"
      ],
      "text/plain": [
       "     Gender  Married  Dependents  Education  Credit_History  Property_Area  \\\n",
       "90        1        1           0          0               1              1   \n",
       "482       1        1           0          0               1              1   \n",
       "464       1        0           0          0               0              1   \n",
       "79        1        1           3          1               1              1   \n",
       "23        1        1           2          1               0              0   \n",
       "\n",
       "     new_col  new_col_2  \n",
       "90       1.0  10.761301  \n",
       "482      1.0  10.738134  \n",
       "464      0.0  10.471072  \n",
       "79       1.0  10.753638  \n",
       "23       1.0  10.604603  "
      ]
     },
     "execution_count": 311,
     "metadata": {},
     "output_type": "execute_result"
    }
   ],
   "source": [
    "X_train.head()"
   ]
  },
  {
   "cell_type": "code",
   "execution_count": 312,
   "metadata": {},
   "outputs": [
    {
     "name": "stdout",
     "output_type": "stream",
     "text": [
      "LogisticRegression:\n",
      "  pre: 0.947\n",
      "  rec: 0.419\n",
      "  f1: 0.581\n",
      "  loss: 7.301\n",
      "  acc: 0.789\n",
      "----------------------------------------\n",
      "KNeighborsClassifier:\n",
      "  pre: 0.875\n",
      "  rec: 0.326\n",
      "  f1: 0.475\n",
      "  loss: 8.705\n",
      "  acc: 0.748\n",
      "----------------------------------------\n",
      "SVC:\n",
      "  pre: 0.000\n",
      "  rec: 0.000\n",
      "  f1: 0.000\n",
      "  loss: 12.075\n",
      "  acc: 0.650\n",
      "----------------------------------------\n",
      "DecisionTreeClassifier:\n",
      "  pre: 0.947\n",
      "  rec: 0.419\n",
      "  f1: 0.581\n",
      "  loss: 7.301\n",
      "  acc: 0.789\n",
      "----------------------------------------\n"
     ]
    }
   ],
   "source": [
    "for name,model in models.items():\n",
    "    print(name, end=':\\n')\n",
    "    loss(y_test, model.predict(X_test_new))\n",
    "    print('-'*40)"
   ]
  },
  {
   "cell_type": "markdown",
   "metadata": {},
   "source": [
    "# Conclusion:\n",
    "\n",
    "what ever we do, our recall score will not improving , maybe because we don't have a good amount of data, so I think if we got more data and we try more complex models our accuracy will improve"
   ]
  }
 ],
 "metadata": {
  "kernelspec": {
   "display_name": "Python 3",
   "language": "python",
   "name": "python3"
  },
  "language_info": {
   "codemirror_mode": {
    "name": "ipython",
    "version": 3
   },
   "file_extension": ".py",
   "mimetype": "text/x-python",
   "name": "python",
   "nbconvert_exporter": "python",
   "pygments_lexer": "ipython3",
   "version": "3.8.2"
  }
 },
 "nbformat": 4,
 "nbformat_minor": 4
}
